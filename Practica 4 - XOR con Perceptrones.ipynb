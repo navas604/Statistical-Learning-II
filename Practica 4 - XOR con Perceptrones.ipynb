{
  "nbformat": 4,
  "nbformat_minor": 0,
  "metadata": {
    "colab": {
      "name": "Practica 4 - XOR con Perceptrones.ipynb",
      "provenance": [],
      "collapsed_sections": [],
      "include_colab_link": true
    },
    "kernelspec": {
      "name": "python3",
      "display_name": "Python 3"
    },
    "language_info": {
      "name": "python"
    }
  },
  "cells": [
    {
      "cell_type": "markdown",
      "metadata": {
        "id": "view-in-github",
        "colab_type": "text"
      },
      "source": [
        "<a href=\"https://colab.research.google.com/github/navas604/Statistical-Learning-II/blob/main/Practica%204%20-%20XOR%20con%20Perceptrones.ipynb\" target=\"_parent\"><img src=\"https://colab.research.google.com/assets/colab-badge.svg\" alt=\"Open In Colab\"/></a>"
      ]
    },
    {
      "cell_type": "markdown",
      "metadata": {
        "id": "gcN8K3FIOmV8"
      },
      "source": [
        "## **Universidad Galileo**\n",
        "## **Maestría en Data Science**\n",
        "## **Statistical Learning II**\n",
        "## **Antonio Everardo Navas Contreras, 14003163**\n",
        "## **15/08/2021**\n",
        "\n",
        "---\n",
        "\n",
        "## **PRÁCTICA 4 - XOR CON COMPOSICIÓN Y PERCEPTRONES**\n",
        "\n",
        "---"
      ]
    },
    {
      "cell_type": "markdown",
      "metadata": {
        "id": "-OvpCFp8M2oJ"
      },
      "source": [
        "### CARGAR LIBRERIAS"
      ]
    },
    {
      "cell_type": "code",
      "metadata": {
        "id": "dm-sgnYN-rZh"
      },
      "source": [
        "import numpy as np\n",
        "import pandas as pd\n",
        "import matplotlib.pyplot as plt\n",
        "import seaborn as sns\n",
        "from matplotlib.colors import ListedColormap"
      ],
      "execution_count": 1,
      "outputs": []
    },
    {
      "cell_type": "markdown",
      "metadata": {
        "id": "bGbvb8Z8_A7L"
      },
      "source": [
        "## AND"
      ]
    },
    {
      "cell_type": "code",
      "metadata": {
        "id": "ybjmOkeQ_Lqe"
      },
      "source": [
        "X = np.array([[0, 0], [0, 1], [1, 0], [1, 1]])\n",
        "Y = np.array([0,0,0,1])"
      ],
      "execution_count": 2,
      "outputs": []
    },
    {
      "cell_type": "code",
      "metadata": {
        "colab": {
          "base_uri": "https://localhost:8080/",
          "height": 265
        },
        "id": "yJZPcXyz_mST",
        "outputId": "a400036e-4145-46f0-b58d-c758c31cfb8f"
      },
      "source": [
        "colours = ListedColormap(['r','b'])\n",
        "classes = [\"0\",\"1\"]\n",
        "plot = plt.scatter(X[:,0],X[:, 1],c=list(Y),cmap=colours)\n",
        "\n",
        "plt.legend(handles=plot.legend_elements()[0],labels=classes)\n",
        "plt.grid(True)\n",
        "plt.show()"
      ],
      "execution_count": 3,
      "outputs": [
        {
          "output_type": "display_data",
          "data": {
            "image/png": "[encoded data removed]",
            "text/plain": [
              "<Figure size 432x288 with 1 Axes>"
            ]
          },
          "metadata": {
            "needs_background": "light"
          }
        }
      ]
    },
    {
      "cell_type": "code",
      "metadata": {
        "colab": {
          "base_uri": "https://localhost:8080/",
          "height": 466
        },
        "id": "0hpslw7f-wuq",
        "outputId": "42028171-8edf-4f53-f44c-ac284c8ab8d4"
      },
      "source": [
        "import pandas as pd\n",
        "\n",
        "# TODO: Set weight1, weight2, and bias\n",
        "weight1 = 1 #default 0\n",
        "weight2 = 1 #default 0\n",
        "bias = -1.5 #default 0\n",
        "\n",
        "\n",
        "# DON'T CHANGE ANYTHING BELOW\n",
        "# Inputs and outputs\n",
        "test_inputs =  X\n",
        "correct_outputs = [y for y in Y]\n",
        "outputs = []\n",
        "Y_preds = []\n",
        "\n",
        "# Generate and check output\n",
        "for test_input, correct_output in zip(test_inputs, correct_outputs):\n",
        "    linear_combination = weight1 * test_input[0] + weight2 * test_input[1] + bias\n",
        "    output = int(linear_combination >= 0)\n",
        "    is_correct_string = 'Yes' if output == correct_output else 'No'\n",
        "    outputs.append([test_input[0], test_input[1], linear_combination, output,correct_output, is_correct_string])\n",
        "    print(len(Y_preds),test_input)\n",
        "    Y_preds.append(output)\n",
        "\n",
        "# Print output\n",
        "num_wrong = len([output[4] for output in outputs if output[4] == 'No'])\n",
        "output_frame = pd.DataFrame(outputs, columns=['Input 1', '  Input 2', '  Linear Combination', '  Activation Output',\"Real value\", '  Is Correct'])\n",
        "if not num_wrong:\n",
        "    print('Nice!  You got it all correct.\\n')\n",
        "else:\n",
        "    print('You got {} wrong.  Keep trying!\\n'.format(num_wrong))\n",
        "print(output_frame.to_string(index=False))\n",
        "##########################################\n",
        "line_x = np.linspace(0,1.3)\n",
        "line_y = (-line_x*weight1 - bias)/weight2\n",
        "sns.scatterplot(data = output_frame,x=\"Input 1\",y=\"  Input 2\",hue=\"Real value\",style=\"  Activation Output\")\n",
        "plt.plot(line_x,line_y)\n",
        "# Put the legend out of the figure\n",
        "plt.legend(bbox_to_anchor=(1.05, 1), loc=2, borderaxespad=0.)\n",
        "plt.show()"
      ],
      "execution_count": 4,
      "outputs": [
        {
          "output_type": "stream",
          "text": [
            "0 [0 0]\n",
            "1 [0 1]\n",
            "2 [1 0]\n",
            "3 [1 1]\n",
            "Nice!  You got it all correct.\n",
            "\n",
            " Input 1    Input 2    Linear Combination    Activation Output  Real value   Is Correct\n",
            "       0          0                  -1.5                    0           0          Yes\n",
            "       0          1                  -0.5                    0           0          Yes\n",
            "       1          0                  -0.5                    0           0          Yes\n",
            "       1          1                   0.5                    1           1          Yes\n"
          ],
          "name": "stdout"
        },
        {
          "output_type": "display_data",
          "data": {
            "image/png": "[encoded data removed]",
            "text/plain": [
              "<Figure size 432x288 with 1 Axes>"
            ]
          },
          "metadata": {
            "needs_background": "light"
          }
        }
      ]
    },
    {
      "cell_type": "markdown",
      "metadata": {
        "id": "lESgV-e1CXE8"
      },
      "source": [
        "## OR"
      ]
    },
    {
      "cell_type": "code",
      "metadata": {
        "id": "SKE1EnGI-4Ft"
      },
      "source": [
        "X = np.array([[0, 0], [0, 1], [1, 0], [1, 1]])\n",
        "Y = np.array([0,1,1,1])"
      ],
      "execution_count": 5,
      "outputs": []
    },
    {
      "cell_type": "code",
      "metadata": {
        "colab": {
          "base_uri": "https://localhost:8080/",
          "height": 265
        },
        "id": "RFDvQHZdCao8",
        "outputId": "55b33076-d6e8-452c-ae87-c5038c4858ad"
      },
      "source": [
        "colours = ListedColormap(['r','b'])\n",
        "classes = [\"0\",\"1\"]\n",
        "plot = plt.scatter(X[:,0],X[:, 1],c=list(Y),cmap=colours)\n",
        "\n",
        "plt.legend(handles=plot.legend_elements()[0],labels=classes)\n",
        "plt.grid(True)\n",
        "plt.show()"
      ],
      "execution_count": 6,
      "outputs": [
        {
          "output_type": "display_data",
          "data": {
            "image/png": "[encoded data removed]",
            "text/plain": [
              "<Figure size 432x288 with 1 Axes>"
            ]
          },
          "metadata": {
            "needs_background": "light"
          }
        }
      ]
    },
    {
      "cell_type": "code",
      "metadata": {
        "colab": {
          "base_uri": "https://localhost:8080/",
          "height": 466
        },
        "id": "XgO7wIn3CnSd",
        "outputId": "b0debb07-2b42-4611-c832-415c6624885e"
      },
      "source": [
        "import pandas as pd\n",
        "\n",
        "# TODO: Set weight1, weight2, and bias\n",
        "weight1 = 2 #default 0\n",
        "weight2 = 2 #default 0\n",
        "bias = -1.5 #default 0\n",
        "\n",
        "\n",
        "# DON'T CHANGE ANYTHING BELOW\n",
        "# Inputs and outputs\n",
        "test_inputs =  X\n",
        "correct_outputs = [y for y in Y]\n",
        "outputs = []\n",
        "Y_preds = []\n",
        "\n",
        "# Generate and check output\n",
        "for test_input, correct_output in zip(test_inputs, correct_outputs):\n",
        "    linear_combination = weight1 * test_input[0] + weight2 * test_input[1] + bias\n",
        "    output = int(linear_combination >= 0)\n",
        "    is_correct_string = 'Yes' if output == correct_output else 'No'\n",
        "    outputs.append([test_input[0], test_input[1], linear_combination, output,correct_output, is_correct_string])\n",
        "    print(len(Y_preds),test_input)\n",
        "    Y_preds.append(output)\n",
        "\n",
        "# Print output\n",
        "num_wrong = len([output[4] for output in outputs if output[4] == 'No'])\n",
        "output_frame = pd.DataFrame(outputs, columns=['Input 1', '  Input 2', '  Linear Combination', '  Activation Output',\"Real value\", '  Is Correct'])\n",
        "if not num_wrong:\n",
        "    print('Nice!  You got it all correct.\\n')\n",
        "else:\n",
        "    print('You got {} wrong.  Keep trying!\\n'.format(num_wrong))\n",
        "print(output_frame.to_string(index=False))\n",
        "##########################################\n",
        "line_x = np.linspace(0,1.3)\n",
        "line_y = (-line_x*weight1 - bias)/weight2\n",
        "sns.scatterplot(data = output_frame,x=\"Input 1\",y=\"  Input 2\",hue=\"Real value\",style=\"  Activation Output\")\n",
        "plt.plot(line_x,line_y)\n",
        "# Put the legend out of the figure\n",
        "plt.legend(bbox_to_anchor=(1.05, 1), loc=2, borderaxespad=0.)\n",
        "plt.show()"
      ],
      "execution_count": 7,
      "outputs": [
        {
          "output_type": "stream",
          "text": [
            "0 [0 0]\n",
            "1 [0 1]\n",
            "2 [1 0]\n",
            "3 [1 1]\n",
            "Nice!  You got it all correct.\n",
            "\n",
            " Input 1    Input 2    Linear Combination    Activation Output  Real value   Is Correct\n",
            "       0          0                  -1.5                    0           0          Yes\n",
            "       0          1                   0.5                    1           1          Yes\n",
            "       1          0                   0.5                    1           1          Yes\n",
            "       1          1                   2.5                    1           1          Yes\n"
          ],
          "name": "stdout"
        },
        {
          "output_type": "display_data",
          "data": {
            "image/png": "[encoded data removed]",
            "text/plain": [
              "<Figure size 432x288 with 1 Axes>"
            ]
          },
          "metadata": {
            "needs_background": "light"
          }
        }
      ]
    },
    {
      "cell_type": "markdown",
      "metadata": {
        "id": "gOXkKhPaC5Ok"
      },
      "source": [
        "## NOT: \n",
        "\n",
        "a difrencia de los 2 anteriores, NOT solo toma en cuenta una entrada y la \"niega\", en el siguiente exercicio crearemos un perceptrón para NOT que niegue la segunda entrada e ignore la primera."
      ]
    },
    {
      "cell_type": "code",
      "metadata": {
        "id": "-nbyWs4YCsw-"
      },
      "source": [
        "X = np.array([[0, 0], \n",
        "              [0, 1], \n",
        "              [1, 0], \n",
        "              [1, 1]])\n",
        "Y = np.array([1,0,1,0])"
      ],
      "execution_count": 8,
      "outputs": []
    },
    {
      "cell_type": "code",
      "metadata": {
        "colab": {
          "base_uri": "https://localhost:8080/",
          "height": 265
        },
        "id": "d5yi7U0bDXug",
        "outputId": "8f2e7b9f-9632-47d4-b9d6-98268a19b257"
      },
      "source": [
        "colours = ListedColormap(['r','b'])\n",
        "classes = [\"0\",\"1\"]\n",
        "plot = plt.scatter(X[:,0],X[:, 1],c=list(Y),cmap=colours)\n",
        "\n",
        "plt.legend(handles=plot.legend_elements()[0],labels=classes)\n",
        "plt.grid(True)\n",
        "plt.show()"
      ],
      "execution_count": 9,
      "outputs": [
        {
          "output_type": "display_data",
          "data": {
            "image/png": "[encoded data removed]",
            "text/plain": [
              "<Figure size 432x288 with 1 Axes>"
            ]
          },
          "metadata": {
            "needs_background": "light"
          }
        }
      ]
    },
    {
      "cell_type": "code",
      "metadata": {
        "colab": {
          "base_uri": "https://localhost:8080/",
          "height": 466
        },
        "id": "rjJA0kOMDhls",
        "outputId": "4031101e-01d8-4225-eb4d-5ddee7a20711"
      },
      "source": [
        "import pandas as pd\n",
        "\n",
        "# TODO: Set weight1, weight2, and bias\n",
        "weight1 = 0 #default 0\n",
        "weight2 = -10 #default 0\n",
        "bias =  5 #default 0\n",
        "\n",
        "\n",
        "# DON'T CHANGE ANYTHING BELOW\n",
        "# Inputs and outputs\n",
        "test_inputs =  X\n",
        "correct_outputs = [y for y in Y]\n",
        "outputs = []\n",
        "Y_preds = []\n",
        "\n",
        "# Generate and check output\n",
        "for test_input, correct_output in zip(test_inputs, correct_outputs):\n",
        "    linear_combination = weight1 * test_input[0] + weight2 * test_input[1] + bias\n",
        "    output = int(linear_combination >= 0)\n",
        "    is_correct_string = 'Yes' if output == correct_output else 'No'\n",
        "    outputs.append([test_input[0], test_input[1], linear_combination, output,correct_output, is_correct_string])\n",
        "    print(len(Y_preds),test_input)\n",
        "    Y_preds.append(output)\n",
        "\n",
        "# Print output\n",
        "num_wrong = len([output[4] for output in outputs if output[4] == 'No'])\n",
        "output_frame = pd.DataFrame(outputs, columns=['Input 1', '  Input 2', '  Linear Combination', '  Activation Output',\"Real value\", '  Is Correct'])\n",
        "if not num_wrong:\n",
        "    print('Nice!  You got it all correct.\\n')\n",
        "else:\n",
        "    print('You got {} wrong.  Keep trying!\\n'.format(num_wrong))\n",
        "print(output_frame.to_string(index=False))\n",
        "##########################################\n",
        "line_x = np.linspace(0,1.3)\n",
        "line_y = (-line_x*weight1 - bias)/weight2\n",
        "sns.scatterplot(data = output_frame,x=\"Input 1\",y=\"  Input 2\",hue=\"Real value\",style=\"  Activation Output\")\n",
        "plt.plot(line_x,line_y)\n",
        "# Put the legend out of the figure\n",
        "plt.legend(bbox_to_anchor=(1.05, 1), loc=2, borderaxespad=0.)\n",
        "plt.show()"
      ],
      "execution_count": 10,
      "outputs": [
        {
          "output_type": "stream",
          "text": [
            "0 [0 0]\n",
            "1 [0 1]\n",
            "2 [1 0]\n",
            "3 [1 1]\n",
            "Nice!  You got it all correct.\n",
            "\n",
            " Input 1    Input 2    Linear Combination    Activation Output  Real value   Is Correct\n",
            "       0          0                     5                    1           1          Yes\n",
            "       0          1                    -5                    0           0          Yes\n",
            "       1          0                     5                    1           1          Yes\n",
            "       1          1                    -5                    0           0          Yes\n"
          ],
          "name": "stdout"
        },
        {
          "output_type": "display_data",
          "data": {
            "image/png": "[encoded data removed]",
            "text/plain": [
              "<Figure size 432x288 with 1 Axes>"
            ]
          },
          "metadata": {
            "needs_background": "light"
          }
        }
      ]
    },
    {
      "cell_type": "markdown",
      "metadata": {
        "id": "hJP3mb4CMAbr"
      },
      "source": [
        "## XOR con perceptrones"
      ]
    },
    {
      "cell_type": "code",
      "metadata": {
        "id": "e-BnDEGPvkH8"
      },
      "source": [
        "X = np.array([[0, 0],\n",
        "              [0, 1],\n",
        "              [1, 0],\n",
        "              [1, 1]])\n",
        "Y = np.array([0,1,1,0])"
      ],
      "execution_count": 11,
      "outputs": []
    },
    {
      "cell_type": "code",
      "metadata": {
        "colab": {
          "base_uri": "https://localhost:8080/",
          "height": 265
        },
        "id": "1N_Ow50xvri_",
        "outputId": "40276165-a406-4a35-9e70-bb7047a342dd"
      },
      "source": [
        "colours = ListedColormap(['r','b'])\n",
        "classes = [\"0\",\"1\"]\n",
        "plot = plt.scatter(X[:,0],X[:, 1],c=list(Y),cmap=colours)\n",
        "\n",
        "plt.legend(handles=plot.legend_elements()[0],labels=classes)\n",
        "plt.grid(True)\n",
        "plt.show()"
      ],
      "execution_count": 12,
      "outputs": [
        {
          "output_type": "display_data",
          "data": {
            "image/png": "[encoded data removed]",
            "text/plain": [
              "<Figure size 432x288 with 1 Axes>"
            ]
          },
          "metadata": {
            "needs_background": "light"
          }
        }
      ]
    },
    {
      "cell_type": "code",
      "metadata": {
        "id": "L-of-o45L_lU"
      },
      "source": [
        "def activacion_heaviside(z):\n",
        "  return (z >= 0).astype(int)\n",
        "\n",
        "\n",
        "def perceptron_AND(X):\n",
        "  weights = np.array([[1],\n",
        "                      [1]])\n",
        "  bias = -1.5\n",
        "\n",
        "  h = activacion_heaviside(np.matmul(X, weights) + bias)\n",
        "\n",
        "  return h\n",
        "\n",
        "\n",
        "def perceptron_OR(X):\n",
        "  weights = np.array([[2],\n",
        "                      [2]])\n",
        "  bias = -1.5\n",
        "\n",
        "  h = activacion_heaviside(np.matmul(X, weights) + bias)\n",
        "\n",
        "  return h\n",
        "\n",
        "\n",
        "def perceptron_NOT(X):\n",
        "  weights = np.array([[-10]])\n",
        "  bias = 5\n",
        "\n",
        "  h = activacion_heaviside(np.matmul(X, weights) + bias)\n",
        "\n",
        "  return h\n",
        "\n",
        "\n",
        "def perceptron_IDENTIDAD(X):\n",
        "  return X"
      ],
      "execution_count": 13,
      "outputs": []
    },
    {
      "cell_type": "code",
      "metadata": {
        "colab": {
          "base_uri": "https://localhost:8080/"
        },
        "id": "FJDGK4JpMYzL",
        "outputId": "a8b7dc1b-c467-4955-d67d-503aa0ed9084"
      },
      "source": [
        "capa1_1 = perceptron_AND(X)\n",
        "capa1_2 = perceptron_IDENTIDAD(X)\n",
        "\n",
        "#############\n",
        "capa2_1 = perceptron_NOT(capa1_1)\n",
        "capa2_2 = perceptron_OR(capa1_2)\n",
        "\n",
        "############\n",
        "capa3_1 = perceptron_AND(np.c_[capa2_1, capa2_2])\n",
        "y_prediccion = capa3_1\n",
        "\n",
        "print(y_prediccion)"
      ],
      "execution_count": 14,
      "outputs": [
        {
          "output_type": "stream",
          "text": [
            "[[0]\n",
            " [1]\n",
            " [1]\n",
            " [0]]\n"
          ],
          "name": "stdout"
        }
      ]
    },
    {
      "cell_type": "code",
      "metadata": {
        "id": "q0Q5m3mq0Dcj"
      },
      "source": [
        ""
      ],
      "execution_count": 14,
      "outputs": []
    }
  ]
}