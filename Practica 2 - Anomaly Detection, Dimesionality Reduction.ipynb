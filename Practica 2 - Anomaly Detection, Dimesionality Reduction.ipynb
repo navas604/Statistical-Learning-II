{
  "nbformat": 4,
  "nbformat_minor": 0,
  "metadata": {
    "colab": {
      "name": "Practica 2 - Anomaly Detection, Dimesionality Reduction.ipynb",
      "provenance": [],
      "collapsed_sections": [],
      "include_colab_link": true
    },
    "kernelspec": {
      "name": "python3",
      "display_name": "Python 3"
    },
    "language_info": {
      "name": "python"
    }
  },
  "cells": [
    {
      "cell_type": "markdown",
      "metadata": {
        "id": "view-in-github",
        "colab_type": "text"
      },
      "source": [
        "<a href=\"https://colab.research.google.com/github/navas604/Statistical-Learning-II/blob/main/Practica%202%20-%20Anomaly%20Detection%2C%20Dimesionality%20Reduction.ipynb\" target=\"_parent\"><img src=\"https://colab.research.google.com/assets/colab-badge.svg\" alt=\"Open In Colab\"/></a>"
      ]
    },
    {
      "cell_type": "markdown",
      "metadata": {
        "id": "gcN8K3FIOmV8"
      },
      "source": [
        "## **Universidad Galileo**\n",
        "## **Maestría en Data Science**\n",
        "## **Statistical Learning II**\n",
        "## **Antonio Everardo Navas Contreras, 14003163**\n",
        "## **28/07/2021**\n",
        "\n",
        "---\n",
        "\n",
        "## **PRÁCTICA 2 - ANOMALY DETECTION, DIMENSIONALITY REDUCTION**\n",
        "\n",
        "---"
      ]
    },
    {
      "cell_type": "markdown",
      "metadata": {
        "id": "-OvpCFp8M2oJ"
      },
      "source": [
        "### CARGAR LIBRERIAS"
      ]
    },
    {
      "cell_type": "code",
      "metadata": {
        "id": "Sy6FNjjwPxXu"
      },
      "source": [
        "# Importar las librerías que se utilizarán\n",
        "\n",
        "import numpy as np\n",
        "import pandas as pd\n",
        "import seaborn as sns\n",
        "import matplotlib.pyplot as plt\n",
        "from scipy.stats import multivariate_normal\n",
        "from sklearn.metrics import f1_score\n",
        "from tensorflow import keras\n",
        "from sklearn.manifold import TSNE\n",
        "from sklearn.mixture import GaussianMixture"
      ],
      "execution_count": 1,
      "outputs": []
    },
    {
      "cell_type": "markdown",
      "metadata": {
        "id": "zGzKU88nLGQj"
      },
      "source": [
        "## **2.1 ANOMALY DETECTION**"
      ]
    },
    {
      "cell_type": "markdown",
      "metadata": {
        "id": "SpLqgLit9bGE"
      },
      "source": [
        "### Calcular los parámetros de la distribución (Media y Desviación Estándar) usando dataset TRAIN"
      ]
    },
    {
      "cell_type": "code",
      "metadata": {
        "id": "6tuvFoyej0Lp"
      },
      "source": [
        "train_set = pd.read_csv(\"estaturasCSV.csv\")\n",
        "valtestCSV = pd.read_csv(\"valtestCSV.csv\")\n",
        "anomaliasCSV = pd.read_csv(\"anomaliasCSV.csv\")"
      ],
      "execution_count": 2,
      "outputs": []
    },
    {
      "cell_type": "code",
      "metadata": {
        "id": "U9EmiGpaDbFm"
      },
      "source": [
        "validation_set = pd.concat([valtestCSV.loc[:(len(valtestCSV)/2)-1,],\n",
        "                            anomaliasCSV.loc[:(len(anomaliasCSV)/2)-1,]],\n",
        "                           ignore_index = True)\n",
        "\n",
        "test_set = pd.concat([valtestCSV.loc[len(valtestCSV)/2:,],\n",
        "                      anomaliasCSV.loc[len(anomaliasCSV)/2:,]],\n",
        "                     ignore_index = True)"
      ],
      "execution_count": 3,
      "outputs": []
    },
    {
      "cell_type": "code",
      "metadata": {
        "colab": {
          "base_uri": "https://localhost:8080/",
          "height": 235
        },
        "id": "wnsMJniqkdv8",
        "outputId": "3b7d593c-efb6-4c7d-a39d-5539b949f023"
      },
      "source": [
        "validation_set"
      ],
      "execution_count": 4,
      "outputs": [
        {
          "output_type": "execute_result",
          "data": {
            "text/html": [
              "<div>\n",
              "<style scoped>\n",
              "    .dataframe tbody tr th:only-of-type {\n",
              "        vertical-align: middle;\n",
              "    }\n",
              "\n",
              "    .dataframe tbody tr th {\n",
              "        vertical-align: top;\n",
              "    }\n",
              "\n",
              "    .dataframe thead th {\n",
              "        text-align: right;\n",
              "    }\n",
              "</style>\n",
              "<table border=\"1\" class=\"dataframe\">\n",
              "  <thead>\n",
              "    <tr style=\"text-align: right;\">\n",
              "      <th></th>\n",
              "      <th>Estatura(metros)</th>\n",
              "      <th>Edad(años)</th>\n",
              "    </tr>\n",
              "  </thead>\n",
              "  <tbody>\n",
              "    <tr>\n",
              "      <th>0</th>\n",
              "      <td>1.82</td>\n",
              "      <td>25.0</td>\n",
              "    </tr>\n",
              "    <tr>\n",
              "      <th>1</th>\n",
              "      <td>1.80</td>\n",
              "      <td>27.0</td>\n",
              "    </tr>\n",
              "    <tr>\n",
              "      <th>2</th>\n",
              "      <td>1.60</td>\n",
              "      <td>31.0</td>\n",
              "    </tr>\n",
              "    <tr>\n",
              "      <th>3</th>\n",
              "      <td>1.60</td>\n",
              "      <td>35.0</td>\n",
              "    </tr>\n",
              "    <tr>\n",
              "      <th>4</th>\n",
              "      <td>0.25</td>\n",
              "      <td>2.4</td>\n",
              "    </tr>\n",
              "    <tr>\n",
              "      <th>5</th>\n",
              "      <td>175.10</td>\n",
              "      <td>2.5</td>\n",
              "    </tr>\n",
              "  </tbody>\n",
              "</table>\n",
              "</div>"
            ],
            "text/plain": [
              "   Estatura(metros)  Edad(años)\n",
              "0              1.82        25.0\n",
              "1              1.80        27.0\n",
              "2              1.60        31.0\n",
              "3              1.60        35.0\n",
              "4              0.25         2.4\n",
              "5            175.10         2.5"
            ]
          },
          "metadata": {
            "tags": []
          },
          "execution_count": 4
        }
      ]
    },
    {
      "cell_type": "code",
      "metadata": {
        "colab": {
          "base_uri": "https://localhost:8080/",
          "height": 235
        },
        "id": "8Z0WodrzJ-mZ",
        "outputId": "8bc2ff99-a59d-47e4-c671-0dc08ecc1ad9"
      },
      "source": [
        "test_set"
      ],
      "execution_count": 5,
      "outputs": [
        {
          "output_type": "execute_result",
          "data": {
            "text/html": [
              "<div>\n",
              "<style scoped>\n",
              "    .dataframe tbody tr th:only-of-type {\n",
              "        vertical-align: middle;\n",
              "    }\n",
              "\n",
              "    .dataframe tbody tr th {\n",
              "        vertical-align: top;\n",
              "    }\n",
              "\n",
              "    .dataframe thead th {\n",
              "        text-align: right;\n",
              "    }\n",
              "</style>\n",
              "<table border=\"1\" class=\"dataframe\">\n",
              "  <thead>\n",
              "    <tr style=\"text-align: right;\">\n",
              "      <th></th>\n",
              "      <th>Estatura(metros)</th>\n",
              "      <th>Edad(años)</th>\n",
              "    </tr>\n",
              "  </thead>\n",
              "  <tbody>\n",
              "    <tr>\n",
              "      <th>0</th>\n",
              "      <td>1.82</td>\n",
              "      <td>30.0</td>\n",
              "    </tr>\n",
              "    <tr>\n",
              "      <th>1</th>\n",
              "      <td>1.76</td>\n",
              "      <td>32.0</td>\n",
              "    </tr>\n",
              "    <tr>\n",
              "      <th>2</th>\n",
              "      <td>1.79</td>\n",
              "      <td>31.0</td>\n",
              "    </tr>\n",
              "    <tr>\n",
              "      <th>3</th>\n",
              "      <td>1.61</td>\n",
              "      <td>31.0</td>\n",
              "    </tr>\n",
              "    <tr>\n",
              "      <th>4</th>\n",
              "      <td>0.15</td>\n",
              "      <td>250.0</td>\n",
              "    </tr>\n",
              "    <tr>\n",
              "      <th>5</th>\n",
              "      <td>150.00</td>\n",
              "      <td>14.0</td>\n",
              "    </tr>\n",
              "  </tbody>\n",
              "</table>\n",
              "</div>"
            ],
            "text/plain": [
              "   Estatura(metros)  Edad(años)\n",
              "0              1.82        30.0\n",
              "1              1.76        32.0\n",
              "2              1.79        31.0\n",
              "3              1.61        31.0\n",
              "4              0.15       250.0\n",
              "5            150.00        14.0"
            ]
          },
          "metadata": {
            "tags": []
          },
          "execution_count": 5
        }
      ]
    },
    {
      "cell_type": "code",
      "metadata": {
        "colab": {
          "base_uri": "https://localhost:8080/",
          "height": 1000
        },
        "id": "w4Ps5iYzJtTp",
        "outputId": "85b6a371-7af5-49c2-f118-7afa4a1e758d"
      },
      "source": [
        "train_set"
      ],
      "execution_count": 6,
      "outputs": [
        {
          "output_type": "execute_result",
          "data": {
            "text/html": [
              "<div>\n",
              "<style scoped>\n",
              "    .dataframe tbody tr th:only-of-type {\n",
              "        vertical-align: middle;\n",
              "    }\n",
              "\n",
              "    .dataframe tbody tr th {\n",
              "        vertical-align: top;\n",
              "    }\n",
              "\n",
              "    .dataframe thead th {\n",
              "        text-align: right;\n",
              "    }\n",
              "</style>\n",
              "<table border=\"1\" class=\"dataframe\">\n",
              "  <thead>\n",
              "    <tr style=\"text-align: right;\">\n",
              "      <th></th>\n",
              "      <th>Estatura(metros)</th>\n",
              "      <th>Edad(años)</th>\n",
              "    </tr>\n",
              "  </thead>\n",
              "  <tbody>\n",
              "    <tr>\n",
              "      <th>0</th>\n",
              "      <td>1.77</td>\n",
              "      <td>26</td>\n",
              "    </tr>\n",
              "    <tr>\n",
              "      <th>1</th>\n",
              "      <td>1.74</td>\n",
              "      <td>31</td>\n",
              "    </tr>\n",
              "    <tr>\n",
              "      <th>2</th>\n",
              "      <td>1.72</td>\n",
              "      <td>24</td>\n",
              "    </tr>\n",
              "    <tr>\n",
              "      <th>3</th>\n",
              "      <td>1.78</td>\n",
              "      <td>34</td>\n",
              "    </tr>\n",
              "    <tr>\n",
              "      <th>4</th>\n",
              "      <td>1.65</td>\n",
              "      <td>32</td>\n",
              "    </tr>\n",
              "    <tr>\n",
              "      <th>5</th>\n",
              "      <td>1.66</td>\n",
              "      <td>29</td>\n",
              "    </tr>\n",
              "    <tr>\n",
              "      <th>6</th>\n",
              "      <td>1.64</td>\n",
              "      <td>27</td>\n",
              "    </tr>\n",
              "    <tr>\n",
              "      <th>7</th>\n",
              "      <td>1.85</td>\n",
              "      <td>34</td>\n",
              "    </tr>\n",
              "    <tr>\n",
              "      <th>8</th>\n",
              "      <td>1.85</td>\n",
              "      <td>26</td>\n",
              "    </tr>\n",
              "    <tr>\n",
              "      <th>9</th>\n",
              "      <td>1.75</td>\n",
              "      <td>21</td>\n",
              "    </tr>\n",
              "    <tr>\n",
              "      <th>10</th>\n",
              "      <td>1.73</td>\n",
              "      <td>23</td>\n",
              "    </tr>\n",
              "    <tr>\n",
              "      <th>11</th>\n",
              "      <td>1.79</td>\n",
              "      <td>25</td>\n",
              "    </tr>\n",
              "    <tr>\n",
              "      <th>12</th>\n",
              "      <td>1.82</td>\n",
              "      <td>24</td>\n",
              "    </tr>\n",
              "    <tr>\n",
              "      <th>13</th>\n",
              "      <td>1.65</td>\n",
              "      <td>25</td>\n",
              "    </tr>\n",
              "    <tr>\n",
              "      <th>14</th>\n",
              "      <td>1.79</td>\n",
              "      <td>25</td>\n",
              "    </tr>\n",
              "    <tr>\n",
              "      <th>15</th>\n",
              "      <td>1.72</td>\n",
              "      <td>34</td>\n",
              "    </tr>\n",
              "    <tr>\n",
              "      <th>16</th>\n",
              "      <td>1.70</td>\n",
              "      <td>26</td>\n",
              "    </tr>\n",
              "    <tr>\n",
              "      <th>17</th>\n",
              "      <td>1.57</td>\n",
              "      <td>25</td>\n",
              "    </tr>\n",
              "    <tr>\n",
              "      <th>18</th>\n",
              "      <td>1.66</td>\n",
              "      <td>26</td>\n",
              "    </tr>\n",
              "    <tr>\n",
              "      <th>19</th>\n",
              "      <td>1.75</td>\n",
              "      <td>27</td>\n",
              "    </tr>\n",
              "    <tr>\n",
              "      <th>20</th>\n",
              "      <td>1.77</td>\n",
              "      <td>32</td>\n",
              "    </tr>\n",
              "    <tr>\n",
              "      <th>21</th>\n",
              "      <td>1.80</td>\n",
              "      <td>40</td>\n",
              "    </tr>\n",
              "    <tr>\n",
              "      <th>22</th>\n",
              "      <td>1.85</td>\n",
              "      <td>25</td>\n",
              "    </tr>\n",
              "    <tr>\n",
              "      <th>23</th>\n",
              "      <td>1.82</td>\n",
              "      <td>24</td>\n",
              "    </tr>\n",
              "    <tr>\n",
              "      <th>24</th>\n",
              "      <td>1.75</td>\n",
              "      <td>38</td>\n",
              "    </tr>\n",
              "    <tr>\n",
              "      <th>25</th>\n",
              "      <td>1.73</td>\n",
              "      <td>34</td>\n",
              "    </tr>\n",
              "    <tr>\n",
              "      <th>26</th>\n",
              "      <td>1.55</td>\n",
              "      <td>29</td>\n",
              "    </tr>\n",
              "    <tr>\n",
              "      <th>27</th>\n",
              "      <td>1.76</td>\n",
              "      <td>28</td>\n",
              "    </tr>\n",
              "    <tr>\n",
              "      <th>28</th>\n",
              "      <td>1.68</td>\n",
              "      <td>27</td>\n",
              "    </tr>\n",
              "    <tr>\n",
              "      <th>29</th>\n",
              "      <td>1.65</td>\n",
              "      <td>30</td>\n",
              "    </tr>\n",
              "    <tr>\n",
              "      <th>30</th>\n",
              "      <td>1.72</td>\n",
              "      <td>26</td>\n",
              "    </tr>\n",
              "    <tr>\n",
              "      <th>31</th>\n",
              "      <td>1.90</td>\n",
              "      <td>24</td>\n",
              "    </tr>\n",
              "    <tr>\n",
              "      <th>32</th>\n",
              "      <td>1.74</td>\n",
              "      <td>34</td>\n",
              "    </tr>\n",
              "    <tr>\n",
              "      <th>33</th>\n",
              "      <td>1.73</td>\n",
              "      <td>33</td>\n",
              "    </tr>\n",
              "    <tr>\n",
              "      <th>34</th>\n",
              "      <td>1.83</td>\n",
              "      <td>53</td>\n",
              "    </tr>\n",
              "    <tr>\n",
              "      <th>35</th>\n",
              "      <td>1.65</td>\n",
              "      <td>28</td>\n",
              "    </tr>\n",
              "    <tr>\n",
              "      <th>36</th>\n",
              "      <td>1.73</td>\n",
              "      <td>24</td>\n",
              "    </tr>\n",
              "    <tr>\n",
              "      <th>37</th>\n",
              "      <td>1.73</td>\n",
              "      <td>22</td>\n",
              "    </tr>\n",
              "    <tr>\n",
              "      <th>38</th>\n",
              "      <td>1.73</td>\n",
              "      <td>23</td>\n",
              "    </tr>\n",
              "    <tr>\n",
              "      <th>39</th>\n",
              "      <td>1.65</td>\n",
              "      <td>43</td>\n",
              "    </tr>\n",
              "    <tr>\n",
              "      <th>40</th>\n",
              "      <td>1.72</td>\n",
              "      <td>26</td>\n",
              "    </tr>\n",
              "    <tr>\n",
              "      <th>41</th>\n",
              "      <td>1.63</td>\n",
              "      <td>31</td>\n",
              "    </tr>\n",
              "    <tr>\n",
              "      <th>42</th>\n",
              "      <td>1.73</td>\n",
              "      <td>35</td>\n",
              "    </tr>\n",
              "    <tr>\n",
              "      <th>43</th>\n",
              "      <td>1.85</td>\n",
              "      <td>49</td>\n",
              "    </tr>\n",
              "    <tr>\n",
              "      <th>44</th>\n",
              "      <td>1.71</td>\n",
              "      <td>28</td>\n",
              "    </tr>\n",
              "    <tr>\n",
              "      <th>45</th>\n",
              "      <td>1.70</td>\n",
              "      <td>28</td>\n",
              "    </tr>\n",
              "  </tbody>\n",
              "</table>\n",
              "</div>"
            ],
            "text/plain": [
              "    Estatura(metros)  Edad(años)\n",
              "0               1.77          26\n",
              "1               1.74          31\n",
              "2               1.72          24\n",
              "3               1.78          34\n",
              "4               1.65          32\n",
              "5               1.66          29\n",
              "6               1.64          27\n",
              "7               1.85          34\n",
              "8               1.85          26\n",
              "9               1.75          21\n",
              "10              1.73          23\n",
              "11              1.79          25\n",
              "12              1.82          24\n",
              "13              1.65          25\n",
              "14              1.79          25\n",
              "15              1.72          34\n",
              "16              1.70          26\n",
              "17              1.57          25\n",
              "18              1.66          26\n",
              "19              1.75          27\n",
              "20              1.77          32\n",
              "21              1.80          40\n",
              "22              1.85          25\n",
              "23              1.82          24\n",
              "24              1.75          38\n",
              "25              1.73          34\n",
              "26              1.55          29\n",
              "27              1.76          28\n",
              "28              1.68          27\n",
              "29              1.65          30\n",
              "30              1.72          26\n",
              "31              1.90          24\n",
              "32              1.74          34\n",
              "33              1.73          33\n",
              "34              1.83          53\n",
              "35              1.65          28\n",
              "36              1.73          24\n",
              "37              1.73          22\n",
              "38              1.73          23\n",
              "39              1.65          43\n",
              "40              1.72          26\n",
              "41              1.63          31\n",
              "42              1.73          35\n",
              "43              1.85          49\n",
              "44              1.71          28\n",
              "45              1.70          28"
            ]
          },
          "metadata": {
            "tags": []
          },
          "execution_count": 6
        }
      ]
    },
    {
      "cell_type": "code",
      "metadata": {
        "colab": {
          "base_uri": "https://localhost:8080/"
        },
        "id": "K1oUN0MNlla2",
        "outputId": "84a0a611-8c0e-49cb-d933-bf17996e8c8e"
      },
      "source": [
        "train_set.shape"
      ],
      "execution_count": 7,
      "outputs": [
        {
          "output_type": "execute_result",
          "data": {
            "text/plain": [
              "(46, 2)"
            ]
          },
          "metadata": {
            "tags": []
          },
          "execution_count": 7
        }
      ]
    },
    {
      "cell_type": "code",
      "metadata": {
        "colab": {
          "base_uri": "https://localhost:8080/",
          "height": 297
        },
        "id": "_z0tKQJ_ohrl",
        "outputId": "16415d72-c394-4c62-f5ce-da203512c351"
      },
      "source": [
        "train_set.describe()"
      ],
      "execution_count": 8,
      "outputs": [
        {
          "output_type": "execute_result",
          "data": {
            "text/html": [
              "<div>\n",
              "<style scoped>\n",
              "    .dataframe tbody tr th:only-of-type {\n",
              "        vertical-align: middle;\n",
              "    }\n",
              "\n",
              "    .dataframe tbody tr th {\n",
              "        vertical-align: top;\n",
              "    }\n",
              "\n",
              "    .dataframe thead th {\n",
              "        text-align: right;\n",
              "    }\n",
              "</style>\n",
              "<table border=\"1\" class=\"dataframe\">\n",
              "  <thead>\n",
              "    <tr style=\"text-align: right;\">\n",
              "      <th></th>\n",
              "      <th>Estatura(metros)</th>\n",
              "      <th>Edad(años)</th>\n",
              "    </tr>\n",
              "  </thead>\n",
              "  <tbody>\n",
              "    <tr>\n",
              "      <th>count</th>\n",
              "      <td>46.000000</td>\n",
              "      <td>46.000000</td>\n",
              "    </tr>\n",
              "    <tr>\n",
              "      <th>mean</th>\n",
              "      <td>1.732609</td>\n",
              "      <td>29.521739</td>\n",
              "    </tr>\n",
              "    <tr>\n",
              "      <th>std</th>\n",
              "      <td>0.075349</td>\n",
              "      <td>6.708996</td>\n",
              "    </tr>\n",
              "    <tr>\n",
              "      <th>min</th>\n",
              "      <td>1.550000</td>\n",
              "      <td>21.000000</td>\n",
              "    </tr>\n",
              "    <tr>\n",
              "      <th>25%</th>\n",
              "      <td>1.685000</td>\n",
              "      <td>25.000000</td>\n",
              "    </tr>\n",
              "    <tr>\n",
              "      <th>50%</th>\n",
              "      <td>1.730000</td>\n",
              "      <td>27.500000</td>\n",
              "    </tr>\n",
              "    <tr>\n",
              "      <th>75%</th>\n",
              "      <td>1.777500</td>\n",
              "      <td>32.750000</td>\n",
              "    </tr>\n",
              "    <tr>\n",
              "      <th>max</th>\n",
              "      <td>1.900000</td>\n",
              "      <td>53.000000</td>\n",
              "    </tr>\n",
              "  </tbody>\n",
              "</table>\n",
              "</div>"
            ],
            "text/plain": [
              "       Estatura(metros)  Edad(años)\n",
              "count         46.000000   46.000000\n",
              "mean           1.732609   29.521739\n",
              "std            0.075349    6.708996\n",
              "min            1.550000   21.000000\n",
              "25%            1.685000   25.000000\n",
              "50%            1.730000   27.500000\n",
              "75%            1.777500   32.750000\n",
              "max            1.900000   53.000000"
            ]
          },
          "metadata": {
            "tags": []
          },
          "execution_count": 8
        }
      ]
    },
    {
      "cell_type": "code",
      "metadata": {
        "colab": {
          "base_uri": "https://localhost:8080/"
        },
        "id": "soqsbfDyRcma",
        "outputId": "c7181a1e-9f02-4d90-ed67-8494b11952e7"
      },
      "source": [
        "# Validar los tipos de variables\n",
        "\n",
        "train_set.dtypes"
      ],
      "execution_count": 9,
      "outputs": [
        {
          "output_type": "execute_result",
          "data": {
            "text/plain": [
              "Estatura(metros)    float64\n",
              "Edad(años)            int64\n",
              "dtype: object"
            ]
          },
          "metadata": {
            "tags": []
          },
          "execution_count": 9
        }
      ]
    },
    {
      "cell_type": "code",
      "metadata": {
        "colab": {
          "base_uri": "https://localhost:8080/"
        },
        "id": "LkpE5K9HRy4l",
        "outputId": "cd7f3484-08be-4dbb-ff87-83e7ee8f9c87"
      },
      "source": [
        "# Porporción de NaN por columna\n",
        "\n",
        "train_set.isna().sum() / len(train_set)"
      ],
      "execution_count": 10,
      "outputs": [
        {
          "output_type": "execute_result",
          "data": {
            "text/plain": [
              "Estatura(metros)    0.0\n",
              "Edad(años)          0.0\n",
              "dtype: float64"
            ]
          },
          "metadata": {
            "tags": []
          },
          "execution_count": 10
        }
      ]
    },
    {
      "cell_type": "code",
      "metadata": {
        "colab": {
          "base_uri": "https://localhost:8080/",
          "height": 295
        },
        "id": "Lkri0weO2TRC",
        "outputId": "b419186c-a60a-443f-aeeb-8ab1db0743f3"
      },
      "source": [
        "# Gráfica de los datos originales\n",
        "\n",
        "plt.scatter(train_set.iloc[:,0], train_set.iloc[:,1], c=\"blue\")\n",
        "plt.xlabel(\"Estatura\")\n",
        "plt.ylabel(\"Edad\")\n",
        "plt.title(\"TRAIN DATASET\")\n",
        "plt.show()"
      ],
      "execution_count": 11,
      "outputs": [
        {
          "output_type": "display_data",
          "data": {
            "image/png": "[encoded data removed]",
            "text/plain": [
              "<Figure size 432x288 with 1 Axes>"
            ]
          },
          "metadata": {
            "tags": [],
            "needs_background": "light"
          }
        }
      ]
    },
    {
      "cell_type": "code",
      "metadata": {
        "id": "aXzQ-w1k7KBd"
      },
      "source": [
        "# Función que calcula los parámetros de una distribución Gaussiana Mu y Sigma\n",
        "\n",
        "def estimate_gaussian(dataset):\n",
        "  mu = np.mean(dataset, axis=0)\n",
        "  sigma = np.cov(dataset.T)\n",
        "\n",
        "  return mu, sigma"
      ],
      "execution_count": 12,
      "outputs": []
    },
    {
      "cell_type": "code",
      "metadata": {
        "id": "pSXFKZU--IX3"
      },
      "source": [
        "# Función que calcula la PDF de una distribución normal multivariada\n",
        "\n",
        "def multivariate_gaussian(dataset, mu, sigma):\n",
        "  gaussian_model = multivariate_normal(mean=mu, cov=sigma)\n",
        "  \n",
        "  return gaussian_model.pdf(dataset)"
      ],
      "execution_count": 13,
      "outputs": []
    },
    {
      "cell_type": "code",
      "metadata": {
        "id": "PwTdgOPpEBP3"
      },
      "source": [
        "# Función que calcula el hyperparámetro EPSILON\n",
        "\n",
        "def select_epsilon(probs, true_anomaly):\n",
        "  best_epsilon = 0\n",
        "  best_f1_score = 0\n",
        "  actual_f1_score = 0\n",
        "\n",
        "  step_size = (max(probs) - min(probs)) / 1000\n",
        "  epsilons_list = np.arange(min(probs), max(probs), step_size)\n",
        "\n",
        "  for epsilon in np.nditer(epsilons_list):\n",
        "    predictions = (probs < epsilon)\n",
        "    actual_f1_score = f1_score(true_anomaly.iloc[:,2], predictions, average = \"binary\")\n",
        "    \n",
        "    if (actual_f1_score > best_f1_score):\n",
        "      best_f1_score = actual_f1_score\n",
        "      best_epsilon = epsilon\n",
        "      \n",
        "  return best_f1_score, best_epsilon"
      ],
      "execution_count": 14,
      "outputs": []
    },
    {
      "cell_type": "code",
      "metadata": {
        "id": "AKN9luZQxwfb"
      },
      "source": [
        "# Función para detectar anomalías\n",
        "\n",
        "def anomaly_detect(probs_list, epsilon, dataset_temp):\n",
        "  dataset = dataset_temp.copy()\n",
        "  anomalies_list = []\n",
        "  for prob in probs_list:      \n",
        "    if prob < epsilon:\n",
        "      anomalies_list.append(True)\n",
        "    else:\n",
        "      anomalies_list.append(False)\n",
        "\n",
        "  dataset['Anomalia'] = anomalies_list\n",
        "\n",
        "  return dataset"
      ],
      "execution_count": 15,
      "outputs": []
    },
    {
      "cell_type": "code",
      "metadata": {
        "colab": {
          "base_uri": "https://localhost:8080/"
        },
        "id": "zDuzcBvTwyGi",
        "outputId": "9c3c1d43-1585-4b4e-9ac9-bbc76b2c032a"
      },
      "source": [
        "# Parámetros mu y sigma con Train set\n",
        "\n",
        "mu, sigma = estimate_gaussian(train_set)\n",
        "mu, sigma"
      ],
      "execution_count": 16,
      "outputs": [
        {
          "output_type": "execute_result",
          "data": {
            "text/plain": [
              "(Estatura(metros)     1.732609\n",
              " Edad(años)          29.521739\n",
              " dtype: float64, array([[5.67748792e-03, 7.54975845e-02],\n",
              "        [7.54975845e-02, 4.50106280e+01]]))"
            ]
          },
          "metadata": {
            "tags": []
          },
          "execution_count": 16
        }
      ]
    },
    {
      "cell_type": "code",
      "metadata": {
        "colab": {
          "base_uri": "https://localhost:8080/"
        },
        "id": "Zc8chK6z-IPz",
        "outputId": "296fbe8f-84e8-406a-ab9e-1fb4f3967ae9"
      },
      "source": [
        "# Train set\n",
        "\n",
        "ocur_probs = multivariate_gaussian(train_set, mu, sigma)\n",
        "ocur_probs"
      ],
      "execution_count": 17,
      "outputs": [
        {
          "output_type": "execute_result",
          "data": {
            "text/plain": [
              "array([0.23431945, 0.31009622, 0.22670016, 0.2208083 , 0.15095585,\n",
              "       0.19969697, 0.14680711, 0.0858851 , 0.07053945, 0.1298267 ,\n",
              "       0.19727557, 0.1734548 , 0.09782319, 0.15281049, 0.1734548 ,\n",
              "       0.24569404, 0.26016966, 0.02912061, 0.18582358, 0.28445693,\n",
              "       0.26924266, 0.0752    , 0.06213504, 0.09782319, 0.1431563 ,\n",
              "       0.25247859, 0.0162055 , 0.28624323, 0.24029438, 0.16971073,\n",
              "       0.27630645, 0.01364933, 0.25481827, 0.2765844 , 0.00051524,\n",
              "       0.17421813, 0.22602604, 0.16831363, 0.19727557, 0.01561357,\n",
              "       0.27630645, 0.11492684, 0.22529554, 0.00246508, 0.29927816,\n",
              "       0.28606927])"
            ]
          },
          "metadata": {
            "tags": []
          },
          "execution_count": 17
        }
      ]
    },
    {
      "cell_type": "code",
      "metadata": {
        "colab": {
          "base_uri": "https://localhost:8080/"
        },
        "id": "qKVPpQD9uOwK",
        "outputId": "55aa33a3-a0d8-4483-be33-603ac23b4acb"
      },
      "source": [
        "# Validation set\n",
        "\n",
        "ocur_probs = multivariate_gaussian(validation_set, mu, sigma)\n",
        "ocur_probs"
      ],
      "execution_count": 18,
      "outputs": [
        {
          "output_type": "execute_result",
          "data": {
            "text/plain": [
              "array([1.12582041e-01, 1.86911763e-01, 6.00555552e-02, 3.72938536e-02,\n",
              "       1.44657745e-85, 0.00000000e+00])"
            ]
          },
          "metadata": {
            "tags": []
          },
          "execution_count": 18
        }
      ]
    },
    {
      "cell_type": "code",
      "metadata": {
        "id": "u13GhRbWiLMI"
      },
      "source": [
        "validation_set_true_anomaly = validation_set.copy()\n",
        "validation_set_true_anomaly['Anomaly'] = [False, False, False, False,  True,  True]"
      ],
      "execution_count": 19,
      "outputs": []
    },
    {
      "cell_type": "code",
      "metadata": {
        "colab": {
          "base_uri": "https://localhost:8080/"
        },
        "id": "ldMCDR9epERl",
        "outputId": "a47210b9-b900-44aa-ad13-9c7239aeefe3"
      },
      "source": [
        "# Seleccionar el mejor hyperparámetro EPSILON\n",
        "\n",
        "best_f1, best_eps = select_epsilon(ocur_probs, validation_set_true_anomaly)\n",
        "print('Best F1 Score:', best_f1)\n",
        "print('Best Epsilon: ', best_eps)"
      ],
      "execution_count": 20,
      "outputs": [
        {
          "output_type": "stream",
          "text": [
            "Best F1 Score: 1.0\n",
            "Best Epsilon:  0.00018691176319452995\n"
          ],
          "name": "stdout"
        }
      ]
    },
    {
      "cell_type": "code",
      "metadata": {
        "colab": {
          "base_uri": "https://localhost:8080/",
          "height": 235
        },
        "id": "DngZGlgvxwc1",
        "outputId": "572ebf50-f23a-4ec2-f9f9-82b2a9828ec8"
      },
      "source": [
        "# Detectar anomalías Validation Set\n",
        "\n",
        "anomaly_validation = anomaly_detect(ocur_probs, best_eps, validation_set)\n",
        "anomaly_validation"
      ],
      "execution_count": 21,
      "outputs": [
        {
          "output_type": "execute_result",
          "data": {
            "text/html": [
              "<div>\n",
              "<style scoped>\n",
              "    .dataframe tbody tr th:only-of-type {\n",
              "        vertical-align: middle;\n",
              "    }\n",
              "\n",
              "    .dataframe tbody tr th {\n",
              "        vertical-align: top;\n",
              "    }\n",
              "\n",
              "    .dataframe thead th {\n",
              "        text-align: right;\n",
              "    }\n",
              "</style>\n",
              "<table border=\"1\" class=\"dataframe\">\n",
              "  <thead>\n",
              "    <tr style=\"text-align: right;\">\n",
              "      <th></th>\n",
              "      <th>Estatura(metros)</th>\n",
              "      <th>Edad(años)</th>\n",
              "      <th>Anomalia</th>\n",
              "    </tr>\n",
              "  </thead>\n",
              "  <tbody>\n",
              "    <tr>\n",
              "      <th>0</th>\n",
              "      <td>1.82</td>\n",
              "      <td>25.0</td>\n",
              "      <td>False</td>\n",
              "    </tr>\n",
              "    <tr>\n",
              "      <th>1</th>\n",
              "      <td>1.80</td>\n",
              "      <td>27.0</td>\n",
              "      <td>False</td>\n",
              "    </tr>\n",
              "    <tr>\n",
              "      <th>2</th>\n",
              "      <td>1.60</td>\n",
              "      <td>31.0</td>\n",
              "      <td>False</td>\n",
              "    </tr>\n",
              "    <tr>\n",
              "      <th>3</th>\n",
              "      <td>1.60</td>\n",
              "      <td>35.0</td>\n",
              "      <td>False</td>\n",
              "    </tr>\n",
              "    <tr>\n",
              "      <th>4</th>\n",
              "      <td>0.25</td>\n",
              "      <td>2.4</td>\n",
              "      <td>True</td>\n",
              "    </tr>\n",
              "    <tr>\n",
              "      <th>5</th>\n",
              "      <td>175.10</td>\n",
              "      <td>2.5</td>\n",
              "      <td>True</td>\n",
              "    </tr>\n",
              "  </tbody>\n",
              "</table>\n",
              "</div>"
            ],
            "text/plain": [
              "   Estatura(metros)  Edad(años)  Anomalia\n",
              "0              1.82        25.0     False\n",
              "1              1.80        27.0     False\n",
              "2              1.60        31.0     False\n",
              "3              1.60        35.0     False\n",
              "4              0.25         2.4      True\n",
              "5            175.10         2.5      True"
            ]
          },
          "metadata": {
            "tags": []
          },
          "execution_count": 21
        }
      ]
    },
    {
      "cell_type": "code",
      "metadata": {
        "colab": {
          "base_uri": "https://localhost:8080/",
          "height": 295
        },
        "id": "flGxNsP7GguZ",
        "outputId": "7f9ea83b-9fdf-41fb-ebbb-865c11499c9d"
      },
      "source": [
        "# Graficar anomalías y no anomalías Validation Set\n",
        "\n",
        "anomaly = anomaly_validation[anomaly_validation['Anomalia'] == True]\n",
        "no_anomaly = anomaly_validation[anomaly_validation['Anomalia'] == False]\n",
        "\n",
        "plt.plot(anomaly.iloc[:,0], anomaly.iloc[:,1], \"ro\", label=\"Anomaly\")\n",
        "plt.plot(no_anomaly.iloc[:,0], no_anomaly.iloc[:,1], \"bx\", label=\"No Anomaly\")\n",
        "plt.xlabel(\"Estatura\")\n",
        "plt.ylabel(\"Edad\")\n",
        "plt.title(\"VALIDATION DATASET\")\n",
        "plt.legend()\n",
        "plt.show()"
      ],
      "execution_count": 22,
      "outputs": [
        {
          "output_type": "display_data",
          "data": {
            "image/png": "[encoded data removed]",
            "text/plain": [
              "<Figure size 432x288 with 1 Axes>"
            ]
          },
          "metadata": {
            "tags": [],
            "needs_background": "light"
          }
        }
      ]
    },
    {
      "cell_type": "code",
      "metadata": {
        "colab": {
          "base_uri": "https://localhost:8080/"
        },
        "id": "qO43PkfWLOKS",
        "outputId": "fb274150-ed38-4749-ebbc-17febf40c372"
      },
      "source": [
        "# Test set\n",
        "\n",
        "ocur_probs = multivariate_gaussian(test_set, mu, sigma)\n",
        "ocur_probs"
      ],
      "execution_count": 23,
      "outputs": [
        {
          "output_type": "execute_result",
          "data": {
            "text/plain": [
              "array([0.16164905, 0.28329198, 0.23685512, 0.07591598, 0.        ,\n",
              "       0.        ])"
            ]
          },
          "metadata": {
            "tags": []
          },
          "execution_count": 23
        }
      ]
    },
    {
      "cell_type": "code",
      "metadata": {
        "colab": {
          "base_uri": "https://localhost:8080/",
          "height": 235
        },
        "id": "yeNPFfiqLOHB",
        "outputId": "7caf40e5-9394-4ee0-fe6b-26e7ca18af5f"
      },
      "source": [
        "# Detectar anomalías Test Set\n",
        "\n",
        "anomaly_test = anomaly_detect(ocur_probs, best_eps, test_set)\n",
        "anomaly_test"
      ],
      "execution_count": 24,
      "outputs": [
        {
          "output_type": "execute_result",
          "data": {
            "text/html": [
              "<div>\n",
              "<style scoped>\n",
              "    .dataframe tbody tr th:only-of-type {\n",
              "        vertical-align: middle;\n",
              "    }\n",
              "\n",
              "    .dataframe tbody tr th {\n",
              "        vertical-align: top;\n",
              "    }\n",
              "\n",
              "    .dataframe thead th {\n",
              "        text-align: right;\n",
              "    }\n",
              "</style>\n",
              "<table border=\"1\" class=\"dataframe\">\n",
              "  <thead>\n",
              "    <tr style=\"text-align: right;\">\n",
              "      <th></th>\n",
              "      <th>Estatura(metros)</th>\n",
              "      <th>Edad(años)</th>\n",
              "      <th>Anomalia</th>\n",
              "    </tr>\n",
              "  </thead>\n",
              "  <tbody>\n",
              "    <tr>\n",
              "      <th>0</th>\n",
              "      <td>1.82</td>\n",
              "      <td>30.0</td>\n",
              "      <td>False</td>\n",
              "    </tr>\n",
              "    <tr>\n",
              "      <th>1</th>\n",
              "      <td>1.76</td>\n",
              "      <td>32.0</td>\n",
              "      <td>False</td>\n",
              "    </tr>\n",
              "    <tr>\n",
              "      <th>2</th>\n",
              "      <td>1.79</td>\n",
              "      <td>31.0</td>\n",
              "      <td>False</td>\n",
              "    </tr>\n",
              "    <tr>\n",
              "      <th>3</th>\n",
              "      <td>1.61</td>\n",
              "      <td>31.0</td>\n",
              "      <td>False</td>\n",
              "    </tr>\n",
              "    <tr>\n",
              "      <th>4</th>\n",
              "      <td>0.15</td>\n",
              "      <td>250.0</td>\n",
              "      <td>True</td>\n",
              "    </tr>\n",
              "    <tr>\n",
              "      <th>5</th>\n",
              "      <td>150.00</td>\n",
              "      <td>14.0</td>\n",
              "      <td>True</td>\n",
              "    </tr>\n",
              "  </tbody>\n",
              "</table>\n",
              "</div>"
            ],
            "text/plain": [
              "   Estatura(metros)  Edad(años)  Anomalia\n",
              "0              1.82        30.0     False\n",
              "1              1.76        32.0     False\n",
              "2              1.79        31.0     False\n",
              "3              1.61        31.0     False\n",
              "4              0.15       250.0      True\n",
              "5            150.00        14.0      True"
            ]
          },
          "metadata": {
            "tags": []
          },
          "execution_count": 24
        }
      ]
    },
    {
      "cell_type": "code",
      "metadata": {
        "colab": {
          "base_uri": "https://localhost:8080/",
          "height": 295
        },
        "id": "T_iU_cbZLOBE",
        "outputId": "be85af31-c46e-4410-b217-572e2bfbc436"
      },
      "source": [
        "# Graficar anomalías y no anomalías Test Set\n",
        "\n",
        "anomaly = anomaly_test[anomaly_test['Anomalia'] == True]\n",
        "no_anomaly = anomaly_test[anomaly_test['Anomalia'] == False]\n",
        "\n",
        "plt.plot(anomaly.iloc[:,0], anomaly.iloc[:,1], \"ro\", label=\"Anomaly\")\n",
        "plt.plot(no_anomaly.iloc[:,0], no_anomaly.iloc[:,1], \"bx\", label=\"No Anomaly\")\n",
        "plt.xlabel(\"Estatura\")\n",
        "plt.ylabel(\"Edad\")\n",
        "plt.title(\"TEST DATASET\")\n",
        "plt.legend()\n",
        "plt.show()"
      ],
      "execution_count": 25,
      "outputs": [
        {
          "output_type": "display_data",
          "data": {
            "image/png": "[encoded data removed]",
            "text/plain": [
              "<Figure size 432x288 with 1 Axes>"
            ]
          },
          "metadata": {
            "tags": [],
            "needs_background": "light"
          }
        }
      ]
    },
    {
      "cell_type": "code",
      "metadata": {
        "id": "FQ_w8eB5AiEH"
      },
      "source": [
        ""
      ],
      "execution_count": 25,
      "outputs": []
    },
    {
      "cell_type": "markdown",
      "metadata": {
        "id": "ErBtPSfDLU3R"
      },
      "source": [
        "## **2.2 DIMENSIONALITY REDUCTION**"
      ]
    },
    {
      "cell_type": "markdown",
      "metadata": {
        "id": "aTTdnnT_D59B"
      },
      "source": [
        "### Cargamos la data \n",
        "\n",
        "El dataset Fashion-MNIST cotiene 60,000 imagenes para el set de datos de entrenamiento y un set de datos de prueba de 10,000."
      ]
    },
    {
      "cell_type": "code",
      "metadata": {
        "id": "9uNm5dw9D59C"
      },
      "source": [
        "fashion_mnist = keras.datasets.fashion_mnist"
      ],
      "execution_count": 26,
      "outputs": []
    },
    {
      "cell_type": "code",
      "metadata": {
        "colab": {
          "base_uri": "https://localhost:8080/"
        },
        "id": "sBpdNY3ND59C",
        "outputId": "b283e401-5cca-44d4-8b3b-615f70665a34"
      },
      "source": [
        "(train_images, train_labels), (test_images, test_labels) = fashion_mnist.load_data()"
      ],
      "execution_count": 27,
      "outputs": [
        {
          "output_type": "stream",
          "text": [
            "Downloading data from https://storage.googleapis.com/tensorflow/tf-keras-datasets/train-labels-idx1-ubyte.gz\n",
            "32768/29515 [=================================] - 0s 0us/step\n",
            "Downloading data from https://storage.googleapis.com/tensorflow/tf-keras-datasets/train-images-idx3-ubyte.gz\n",
            "26427392/26421880 [==============================] - 0s 0us/step\n",
            "Downloading data from https://storage.googleapis.com/tensorflow/tf-keras-datasets/t10k-labels-idx1-ubyte.gz\n",
            "8192/5148 [===============================================] - 0s 0us/step\n",
            "Downloading data from https://storage.googleapis.com/tensorflow/tf-keras-datasets/t10k-images-idx3-ubyte.gz\n",
            "4423680/4422102 [==============================] - 0s 0us/step\n"
          ],
          "name": "stdout"
        }
      ]
    },
    {
      "cell_type": "markdown",
      "metadata": {
        "id": "wapFfXBZD59D"
      },
      "source": [
        "### Imagenes\n",
        "Las imagenes son Numpy Arrays de 28x28, los pixeles estan entre los valores de 0 a 255"
      ]
    },
    {
      "cell_type": "code",
      "metadata": {
        "colab": {
          "base_uri": "https://localhost:8080/",
          "height": 282
        },
        "id": "caqGfzveD59D",
        "outputId": "96b1b303-b868-4743-8504-70a281eaa8fe"
      },
      "source": [
        "plt.imshow(train_images[10], cmap = 'gray')\n",
        "plt.colorbar()"
      ],
      "execution_count": 28,
      "outputs": [
        {
          "output_type": "execute_result",
          "data": {
            "text/plain": [
              "<matplotlib.colorbar.Colorbar at 0x7f15d11ce810>"
            ]
          },
          "metadata": {
            "tags": []
          },
          "execution_count": 28
        },
        {
          "output_type": "display_data",
          "data": {
            "image/png": "[encoded data removed]",
            "text/plain": [
              "<Figure size 432x288 with 2 Axes>"
            ]
          },
          "metadata": {
            "tags": [],
            "needs_background": "light"
          }
        }
      ]
    },
    {
      "cell_type": "markdown",
      "metadata": {
        "id": "xrGIeeXBD59E"
      },
      "source": [
        "### Labels"
      ]
    },
    {
      "cell_type": "code",
      "metadata": {
        "colab": {
          "base_uri": "https://localhost:8080/"
        },
        "id": "02qf_oCYD59E",
        "outputId": "0bd56964-9134-469b-c448-20530ccd281c"
      },
      "source": [
        "np.unique(train_labels)"
      ],
      "execution_count": 29,
      "outputs": [
        {
          "output_type": "execute_result",
          "data": {
            "text/plain": [
              "array([0, 1, 2, 3, 4, 5, 6, 7, 8, 9], dtype=uint8)"
            ]
          },
          "metadata": {
            "tags": []
          },
          "execution_count": 29
        }
      ]
    },
    {
      "cell_type": "markdown",
      "metadata": {
        "id": "QazUBhTpD59F"
      },
      "source": [
        "| Label | Class       |\n",
        "|-------|-------------|\n",
        "| 0     | T-shirt/top |\n",
        "| 1     | Trouser     |\n",
        "| 2     | Pullover    |\n",
        "| 3     | Dress       |\n",
        "| 4     | Coat        |\n",
        "| 5     | Sandal      |\n",
        "| 6     | Shirt       |\n",
        "| 7     | Sneaker     |\n",
        "| 8     | Bag         |\n",
        "| 9     | Ankle boot  |"
      ]
    },
    {
      "cell_type": "code",
      "metadata": {
        "colab": {
          "base_uri": "https://localhost:8080/",
          "height": 589
        },
        "id": "EN9Kol06D59F",
        "outputId": "434c9c8c-ced2-43e6-a3dd-46bce1fc63e5"
      },
      "source": [
        "plt.figure(figsize=(10,10))\n",
        "\n",
        "for i in range(25):\n",
        "  plt.subplot(5,5,i+1)\n",
        "  plt.xticks([])\n",
        "  plt.yticks([])\n",
        "  plt.grid(False)\n",
        "  plt.imshow(train_images[i], cmap='gray')\n",
        "  plt.xlabel(train_labels[i])\n",
        "plt.show()"
      ],
      "execution_count": 30,
      "outputs": [
        {
          "output_type": "display_data",
          "data": {
            "image/png": "[encoded data removed]",
            "text/plain": [
              "<Figure size 720x720 with 25 Axes>"
            ]
          },
          "metadata": {
            "tags": []
          }
        }
      ]
    },
    {
      "cell_type": "code",
      "metadata": {
        "colab": {
          "base_uri": "https://localhost:8080/"
        },
        "id": "ISF8ormQhjyi",
        "outputId": "658f0393-e8dd-474e-a22d-fe650b243aaf"
      },
      "source": [
        "# Explorando el dataset completo\n",
        "\n",
        "print(\"Train images type:\", type(train_images))\n",
        "print(\"Train images shape:\", train_images.shape)\n",
        "print(\"--------------------------------------------------\")\n",
        "print(\"Train labels type:\", type(train_labels))\n",
        "print(\"Train labels shape:\", train_labels.shape)\n",
        "print(\"--------------------------------------------------\")\n",
        "print(\"Test images type: \", type(test_images))\n",
        "print(\"Test images shape: \", test_images.shape)\n",
        "print(\"--------------------------------------------------\")\n",
        "print(\"Test labels type: \", type(test_labels))\n",
        "print(\"Test labels shape: \", test_labels.shape)"
      ],
      "execution_count": 31,
      "outputs": [
        {
          "output_type": "stream",
          "text": [
            "Train images type: <class 'numpy.ndarray'>\n",
            "Train images shape: (60000, 28, 28)\n",
            "--------------------------------------------------\n",
            "Train labels type: <class 'numpy.ndarray'>\n",
            "Train labels shape: (60000,)\n",
            "--------------------------------------------------\n",
            "Test images type:  <class 'numpy.ndarray'>\n",
            "Test images shape:  (10000, 28, 28)\n",
            "--------------------------------------------------\n",
            "Test labels type:  <class 'numpy.ndarray'>\n",
            "Test labels shape:  (10000,)\n"
          ],
          "name": "stdout"
        }
      ]
    },
    {
      "cell_type": "markdown",
      "metadata": {
        "id": "iZ2c2i50LAZt"
      },
      "source": [
        "### Reducir a 2 Dimensiones con PCA sin SKLEARN"
      ]
    },
    {
      "cell_type": "code",
      "metadata": {
        "id": "65WgPzjcP7V4"
      },
      "source": [
        "def PCA_reduction(dataset):\n",
        "\n",
        "  # Reshape del dataset para transformarlo a 2D\n",
        "  dataset_2D = dataset.reshape(-1, dataset.shape[1] * dataset.shape[2]).astype(np.float32)\n",
        "\n",
        "  # Calcular la Media y Desviación Estándar para cada feature\n",
        "  media = dataset_2D.mean(axis=0).reshape(1, dataset_2D.shape[1])\n",
        "  sd = dataset_2D.std(axis=0).reshape(1, dataset_2D.shape[1])\n",
        "\n",
        "  # Normalizar el dataset\n",
        "  dataset_norm = (dataset_2D - media) / sd\n",
        "\n",
        "  # Calcular la matriz de covarianza\n",
        "  sigma = np.cov(dataset_norm, rowvar = False)\n",
        "\n",
        "  # Calcular Eigenvalues y Eigenvectors\n",
        "  eigen_values , eigen_vectors = np.linalg.eigh(sigma)\n",
        "\n",
        "  # Sacar los indices en forma descendente\n",
        "  sorted_index = np.argsort(eigen_values)[::-1]\n",
        "\n",
        "  # Ordenar los Eigenvalues de forma descendente\n",
        "  sorted_eigenvalue = eigen_values[sorted_index]\n",
        "\n",
        "  # Ordenar los Eigenvectors de forma descendente\n",
        "  sorted_eigenvectors = eigen_vectors[:,sorted_index]\n",
        "\n",
        "  # Seleccionar las n features o componentes para nuestro dataset final reducido\n",
        "  n_components = 2\n",
        "  reduced_eigenvector = sorted_eigenvectors[:,0:n_components]\n",
        "\n",
        "  # Transformar el dataset original a n componente principales\n",
        "  data_reduced = np.matmul(reduced_eigenvector.T, dataset_norm.T).T\n",
        "\n",
        "  # Convertir el dataset final transformado a DataFrame de pandas\n",
        "  data_reduced_df = pd.DataFrame(data_reduced, columns = ['PC1','PC2'])\n",
        "\n",
        "  return data_reduced_df"
      ],
      "execution_count": 32,
      "outputs": []
    },
    {
      "cell_type": "code",
      "metadata": {
        "colab": {
          "base_uri": "https://localhost:8080/",
          "height": 419
        },
        "id": "-1i2vlUvddfZ",
        "outputId": "ed008223-2d69-41ce-e4dc-a48c971e11d3"
      },
      "source": [
        "# Se utiliza el dataset de Test ya que tiene menos data\n",
        "# Se reduce a 2 dimensiones\n",
        "\n",
        "test_images_PCA_reduced = PCA_reduction(test_images)\n",
        "test_images_PCA_reduced"
      ],
      "execution_count": 33,
      "outputs": [
        {
          "output_type": "execute_result",
          "data": {
            "text/html": [
              "<div>\n",
              "<style scoped>\n",
              "    .dataframe tbody tr th:only-of-type {\n",
              "        vertical-align: middle;\n",
              "    }\n",
              "\n",
              "    .dataframe tbody tr th {\n",
              "        vertical-align: top;\n",
              "    }\n",
              "\n",
              "    .dataframe thead th {\n",
              "        text-align: right;\n",
              "    }\n",
              "</style>\n",
              "<table border=\"1\" class=\"dataframe\">\n",
              "  <thead>\n",
              "    <tr style=\"text-align: right;\">\n",
              "      <th></th>\n",
              "      <th>PC1</th>\n",
              "      <th>PC2</th>\n",
              "    </tr>\n",
              "  </thead>\n",
              "  <tbody>\n",
              "    <tr>\n",
              "      <th>0</th>\n",
              "      <td>-16.812915</td>\n",
              "      <td>-7.211606</td>\n",
              "    </tr>\n",
              "    <tr>\n",
              "      <th>1</th>\n",
              "      <td>22.272422</td>\n",
              "      <td>-9.561988</td>\n",
              "    </tr>\n",
              "    <tr>\n",
              "      <th>2</th>\n",
              "      <td>3.924984</td>\n",
              "      <td>16.794861</td>\n",
              "    </tr>\n",
              "    <tr>\n",
              "      <th>3</th>\n",
              "      <td>-4.979121</td>\n",
              "      <td>16.840424</td>\n",
              "    </tr>\n",
              "    <tr>\n",
              "      <th>4</th>\n",
              "      <td>2.306644</td>\n",
              "      <td>0.354440</td>\n",
              "    </tr>\n",
              "    <tr>\n",
              "      <th>...</th>\n",
              "      <td>...</td>\n",
              "      <td>...</td>\n",
              "    </tr>\n",
              "    <tr>\n",
              "      <th>9995</th>\n",
              "      <td>-5.932131</td>\n",
              "      <td>-16.013942</td>\n",
              "    </tr>\n",
              "    <tr>\n",
              "      <th>9996</th>\n",
              "      <td>-11.599839</td>\n",
              "      <td>14.494540</td>\n",
              "    </tr>\n",
              "    <tr>\n",
              "      <th>9997</th>\n",
              "      <td>-6.940739</td>\n",
              "      <td>8.629278</td>\n",
              "    </tr>\n",
              "    <tr>\n",
              "      <th>9998</th>\n",
              "      <td>-2.835373</td>\n",
              "      <td>15.493484</td>\n",
              "    </tr>\n",
              "    <tr>\n",
              "      <th>9999</th>\n",
              "      <td>-17.612524</td>\n",
              "      <td>0.039414</td>\n",
              "    </tr>\n",
              "  </tbody>\n",
              "</table>\n",
              "<p>10000 rows × 2 columns</p>\n",
              "</div>"
            ],
            "text/plain": [
              "            PC1        PC2\n",
              "0    -16.812915  -7.211606\n",
              "1     22.272422  -9.561988\n",
              "2      3.924984  16.794861\n",
              "3     -4.979121  16.840424\n",
              "4      2.306644   0.354440\n",
              "...         ...        ...\n",
              "9995  -5.932131 -16.013942\n",
              "9996 -11.599839  14.494540\n",
              "9997  -6.940739   8.629278\n",
              "9998  -2.835373  15.493484\n",
              "9999 -17.612524   0.039414\n",
              "\n",
              "[10000 rows x 2 columns]"
            ]
          },
          "metadata": {
            "tags": []
          },
          "execution_count": 33
        }
      ]
    },
    {
      "cell_type": "code",
      "metadata": {
        "colab": {
          "base_uri": "https://localhost:8080/",
          "height": 295
        },
        "id": "3Zv4SRNRZNa9",
        "outputId": "74d22557-d6f0-443e-a567-c92f5742247a"
      },
      "source": [
        "# Gráfica de los datos reducidos a 2 dimensiones\n",
        "\n",
        "plt.plot(test_images_PCA_reduced.iloc[:,0], test_images_PCA_reduced.iloc[:,1], \"bx\")\n",
        "plt.xlabel('PC1')\n",
        "plt.ylabel('PC2')\n",
        "plt.title('PCA DIMENSION REDUCTION')\n",
        "plt.show()"
      ],
      "execution_count": 34,
      "outputs": [
        {
          "output_type": "display_data",
          "data": {
            "image/png": "[encoded data removed]",
            "text/plain": [
              "<Figure size 432x288 with 1 Axes>"
            ]
          },
          "metadata": {
            "tags": [],
            "needs_background": "light"
          }
        }
      ]
    },
    {
      "cell_type": "markdown",
      "metadata": {
        "id": "R47iv8rCLcDX"
      },
      "source": [
        "### Reducir a 2 Dimensiones con T-SNE con SKLEARN"
      ]
    },
    {
      "cell_type": "code",
      "metadata": {
        "colab": {
          "base_uri": "https://localhost:8080/",
          "height": 419
        },
        "id": "pdD5Qb_j9Gsp",
        "outputId": "9b9dc7ed-e37a-452d-b9c9-51f6064c70fd"
      },
      "source": [
        "# Reducción a 2 dimensiones con TSNE SKLEARN\n",
        "\n",
        "test_images_2D = test_images.reshape(-1, test_images.shape[1] * test_images.shape[2]).astype(np.float32)\n",
        "\n",
        "test_images_TSNE_reduced = TSNE(n_components=2, perplexity=50).fit_transform(test_images_2D)\n",
        "test_images_TSNE_reduced = pd.DataFrame(test_images_TSNE_reduced, columns = ['PC1','PC2'])\n",
        "test_images_TSNE_reduced"
      ],
      "execution_count": 35,
      "outputs": [
        {
          "output_type": "execute_result",
          "data": {
            "text/html": [
              "<div>\n",
              "<style scoped>\n",
              "    .dataframe tbody tr th:only-of-type {\n",
              "        vertical-align: middle;\n",
              "    }\n",
              "\n",
              "    .dataframe tbody tr th {\n",
              "        vertical-align: top;\n",
              "    }\n",
              "\n",
              "    .dataframe thead th {\n",
              "        text-align: right;\n",
              "    }\n",
              "</style>\n",
              "<table border=\"1\" class=\"dataframe\">\n",
              "  <thead>\n",
              "    <tr style=\"text-align: right;\">\n",
              "      <th></th>\n",
              "      <th>PC1</th>\n",
              "      <th>PC2</th>\n",
              "    </tr>\n",
              "  </thead>\n",
              "  <tbody>\n",
              "    <tr>\n",
              "      <th>0</th>\n",
              "      <td>-32.795013</td>\n",
              "      <td>-36.866657</td>\n",
              "    </tr>\n",
              "    <tr>\n",
              "      <th>1</th>\n",
              "      <td>60.805485</td>\n",
              "      <td>-2.239154</td>\n",
              "    </tr>\n",
              "    <tr>\n",
              "      <th>2</th>\n",
              "      <td>-34.203125</td>\n",
              "      <td>54.620304</td>\n",
              "    </tr>\n",
              "    <tr>\n",
              "      <th>3</th>\n",
              "      <td>-38.692780</td>\n",
              "      <td>43.969051</td>\n",
              "    </tr>\n",
              "    <tr>\n",
              "      <th>4</th>\n",
              "      <td>30.965912</td>\n",
              "      <td>-14.916605</td>\n",
              "    </tr>\n",
              "    <tr>\n",
              "      <th>...</th>\n",
              "      <td>...</td>\n",
              "      <td>...</td>\n",
              "    </tr>\n",
              "    <tr>\n",
              "      <th>9995</th>\n",
              "      <td>-18.905460</td>\n",
              "      <td>-49.885727</td>\n",
              "    </tr>\n",
              "    <tr>\n",
              "      <th>9996</th>\n",
              "      <td>-34.960415</td>\n",
              "      <td>37.468719</td>\n",
              "    </tr>\n",
              "    <tr>\n",
              "      <th>9997</th>\n",
              "      <td>1.702944</td>\n",
              "      <td>-22.901779</td>\n",
              "    </tr>\n",
              "    <tr>\n",
              "      <th>9998</th>\n",
              "      <td>-46.009712</td>\n",
              "      <td>37.087524</td>\n",
              "    </tr>\n",
              "    <tr>\n",
              "      <th>9999</th>\n",
              "      <td>-40.768456</td>\n",
              "      <td>-16.632811</td>\n",
              "    </tr>\n",
              "  </tbody>\n",
              "</table>\n",
              "<p>10000 rows × 2 columns</p>\n",
              "</div>"
            ],
            "text/plain": [
              "            PC1        PC2\n",
              "0    -32.795013 -36.866657\n",
              "1     60.805485  -2.239154\n",
              "2    -34.203125  54.620304\n",
              "3    -38.692780  43.969051\n",
              "4     30.965912 -14.916605\n",
              "...         ...        ...\n",
              "9995 -18.905460 -49.885727\n",
              "9996 -34.960415  37.468719\n",
              "9997   1.702944 -22.901779\n",
              "9998 -46.009712  37.087524\n",
              "9999 -40.768456 -16.632811\n",
              "\n",
              "[10000 rows x 2 columns]"
            ]
          },
          "metadata": {
            "tags": []
          },
          "execution_count": 35
        }
      ]
    },
    {
      "cell_type": "code",
      "metadata": {
        "colab": {
          "base_uri": "https://localhost:8080/",
          "height": 295
        },
        "id": "cPqHzD1z9GkA",
        "outputId": "e0d960b0-bd9b-4f9c-bb14-e86eb544dba8"
      },
      "source": [
        "# Gráfica de los datos reducidos a 2 dimensiones\n",
        "\n",
        "plt.plot(test_images_TSNE_reduced.iloc[:,0], test_images_TSNE_reduced.iloc[:,1], \"bx\")\n",
        "plt.xlabel('PC1')\n",
        "plt.ylabel('PC2')\n",
        "plt.title('T-SNE DIMENSION REDUCTION')\n",
        "plt.show()"
      ],
      "execution_count": 36,
      "outputs": [
        {
          "output_type": "display_data",
          "data": {
            "image/png": "[encoded data removed]",
            "text/plain": [
              "<Figure size 432x288 with 1 Axes>"
            ]
          },
          "metadata": {
            "tags": [],
            "needs_background": "light"
          }
        }
      ]
    },
    {
      "cell_type": "markdown",
      "metadata": {
        "id": "n1F29kfwUcVe"
      },
      "source": [
        "Comparando ambas representaciones se puede visualizar que en PCA sin SKLEARN la distribución es menos uniforme de los datos, en la componente PC1 de -25 a 30 y la componente PC2 va de -40 a 20 aproximadamente. Mientras que en TSNE con SKLEARN es un poco mas uniforme la distribución de los datos, la componente PC1 va de -65 a 65 y la componente PC2 va de -60 a 60, se puede ver que los datos están enmarcados de una mejor forma."
      ]
    },
    {
      "cell_type": "code",
      "metadata": {
        "id": "NqLLLe29m605"
      },
      "source": [
        "# Función para graficar la data separada en clusters\n",
        "\n",
        "def plot_clustered_data_GMM(gmm, dataset):\n",
        "  clusters = gmm.predict(dataset)\n",
        "  labels = [\"cluster1\", \"cluster2\", \"cluster3\", \"cluster4\" , \"cluster5\", \"cluster6\", \"cluster7\", \"cluster8\", \"cluster9\", \"cluster10\"]\n",
        "  plt.scatter(dataset.iloc[:, 0], dataset.iloc[:, 1], c=clusters)\n",
        "  plt.scatter(gmm.means_[:,0], gmm.means_[:,1], s=100, c=\"red\", label=\"Centroids\")\n",
        "  plt.xlabel(\"Estatura\")\n",
        "  plt.ylabel(\"Edad\")\n",
        "  plt.title(\"CLUSTERED DATA WITH GMM\")\n",
        "  plt.legend()\n",
        "  plt.show()"
      ],
      "execution_count": 37,
      "outputs": []
    },
    {
      "cell_type": "code",
      "metadata": {
        "colab": {
          "base_uri": "https://localhost:8080/",
          "height": 295
        },
        "id": "k_v1ZRRpotgN",
        "outputId": "e91af5d3-fd76-4052-c193-9d35623d81c9"
      },
      "source": [
        "# Graficar el dataset reducido a 2 dimensiones con PCA sin SKLEARN\n",
        "\n",
        "gmm_PCA = GaussianMixture(n_components=10, random_state=0).fit(test_images_PCA_reduced)\n",
        "\n",
        "plot_clustered_data_GMM(gmm_PCA, test_images_PCA_reduced)"
      ],
      "execution_count": 38,
      "outputs": [
        {
          "output_type": "display_data",
          "data": {
            "image/png": "[encoded data removed]",
            "text/plain": [
              "<Figure size 432x288 with 1 Axes>"
            ]
          },
          "metadata": {
            "tags": [],
            "needs_background": "light"
          }
        }
      ]
    },
    {
      "cell_type": "code",
      "metadata": {
        "colab": {
          "base_uri": "https://localhost:8080/",
          "height": 295
        },
        "id": "LlVs0JRfLXqI",
        "outputId": "efbf2adc-41e8-418a-d20e-e8c932cc4d89"
      },
      "source": [
        "# Graficar el dataset reducido a 2 dimensiones con TSNE con SKLEARN\n",
        "\n",
        "gmm_TSNE = GaussianMixture(n_components=10, random_state=0).fit(test_images_TSNE_reduced)\n",
        "\n",
        "plot_clustered_data_GMM(gmm_TSNE, test_images_TSNE_reduced)"
      ],
      "execution_count": 39,
      "outputs": [
        {
          "output_type": "display_data",
          "data": {
            "image/png": "[encoded data removed]",
            "text/plain": [
              "<Figure size 432x288 with 1 Axes>"
            ]
          },
          "metadata": {
            "tags": [],
            "needs_background": "light"
          }
        }
      ]
    },
    {
      "cell_type": "markdown",
      "metadata": {
        "id": "5-jDCLD4y7ec"
      },
      "source": [
        "### CONCLUSIONES"
      ]
    },
    {
      "cell_type": "markdown",
      "metadata": {
        "id": "cN3aR5ruUQrE"
      },
      "source": [
        "*   Analizando el centroide de cada cluster podemos concluir que se podría asignar una categoría a cada cluster, aunque las distancias entre cada observación y su cluster son muy similares con otros clusters, es decir, las observaciones no están lo suficientemente separadas de los clusters a los que no pertenecen.\n",
        "\n",
        "* Se puede observar que con TSNE los clusters están separados de mejor forma que con PCA, con PCA se vuelve mas complicado decidir entre algunos clusters.\n",
        "\n",
        "*   La varianza intra-cluster es muy parecida a la varianza inter-cluster, por lo que crear categorías se complica, lo que se busca al hacer clustering es minimizar la varianza intra-cluster y maximizar la varianza inter-cluster.\n"
      ]
    },
    {
      "cell_type": "code",
      "metadata": {
        "id": "tOc1qgFiIb2K"
      },
      "source": [
        ""
      ],
      "execution_count": 39,
      "outputs": []
    }
  ]
}