{
  "nbformat": 4,
  "nbformat_minor": 0,
  "metadata": {
    "colab": {
      "name": "Practica 6 - Back Propagation Numpy.ipynb",
      "provenance": [],
      "collapsed_sections": [],
      "include_colab_link": true
    },
    "kernelspec": {
      "name": "python3",
      "display_name": "Python 3"
    }
  },
  "cells": [
    {
      "cell_type": "markdown",
      "metadata": {
        "id": "view-in-github",
        "colab_type": "text"
      },
      "source": [
        "<a href=\"https://colab.research.google.com/github/navas604/Statistical-Learning-II/blob/main/Practica%206%20-%20Back%20Propagation%20Numpy.ipynb\" target=\"_parent\"><img src=\"https://colab.research.google.com/assets/colab-badge.svg\" alt=\"Open In Colab\"/></a>"
      ]
    },
    {
      "cell_type": "markdown",
      "metadata": {
        "id": "gcN8K3FIOmV8"
      },
      "source": [
        "## **Universidad Galileo**\n",
        "## **Maestría en Data Science**\n",
        "## **Statistical Learning II**\n",
        "## **Antonio Everardo Navas Contreras, 14003163**\n",
        "## **17/09/2021**\n",
        "\n",
        "---\n",
        "\n",
        "## **PRÁCTICA 6 - BACK PROPAGATION Y ANÁLISIS DE REPRESENTACIONES INTERMEDIAS**\n",
        "\n",
        "---"
      ]
    },
    {
      "cell_type": "markdown",
      "metadata": {
        "id": "-OvpCFp8M2oJ"
      },
      "source": [
        "### CARGAR LIBRERIAS"
      ]
    },
    {
      "cell_type": "code",
      "metadata": {
        "id": "Q1yAwOc4qPLs"
      },
      "source": [
        "import numpy as np\n",
        "import pandas as pd\n",
        "import matplotlib.pyplot as plt\n",
        "import matplotlib.patches as mpatches"
      ],
      "execution_count": 1,
      "outputs": []
    },
    {
      "cell_type": "code",
      "metadata": {
        "id": "L8M6ptTHP8q2"
      },
      "source": [
        ""
      ],
      "execution_count": 1,
      "outputs": []
    },
    {
      "cell_type": "markdown",
      "metadata": {
        "id": "v2YpGJcNaV6h"
      },
      "source": [
        "### FUNCIONES DE ACTIVACIÓN"
      ]
    },
    {
      "cell_type": "code",
      "metadata": {
        "id": "hir96PwIqZOB"
      },
      "source": [
        "def relu(x):\n",
        "  return np.maximum(0.0, x)\n",
        "\n",
        "def dx_relu(x):\n",
        "  return (x > 0).astype(np.float)"
      ],
      "execution_count": 2,
      "outputs": []
    },
    {
      "cell_type": "code",
      "metadata": {
        "id": "qkVPFyAjeNP9"
      },
      "source": [
        ""
      ],
      "execution_count": 2,
      "outputs": []
    },
    {
      "cell_type": "markdown",
      "metadata": {
        "id": "yEBSlVsUzGGa"
      },
      "source": [
        "### RED NEURONAL, FORWARD AND BACK PROPAGATION"
      ]
    },
    {
      "cell_type": "code",
      "metadata": {
        "id": "Q2RXNQuKtLSS"
      },
      "source": [
        "class RedNeuronal:\n",
        "  def init_params(self, x, neurons_HL1, neurons_HL2, neurons_output):\n",
        "    # Numero de entradas y observacioens\n",
        "    n_inputs = x.shape[1]\n",
        "    n_obs = x.shape[0]\n",
        "\n",
        "    # Inicialización aleatoria de los pesos o parámetros de cada capa de la red neuronal\n",
        "    params_HL1 = np.random.normal(loc=0.0, scale=0.1, size=(n_inputs, neurons_HL1))\n",
        "    params_HL2 = np.random.normal(loc=0.0, scale=0.1, size=(neurons_HL1, neurons_HL2))\n",
        "    params_output = np.random.normal(loc=0.0, scale=0.1, size=(neurons_HL2, neurons_output))\n",
        "\n",
        "    # Inicialización aleatoria de los bias de cada capa de la red neuronal\n",
        "    b_HL1, b_HL2, b_output = np.random.normal(loc=0.0, scale=0.1, size=3)\n",
        "\n",
        "    return params_HL1, params_HL2, params_output, b_HL1, b_HL2, b_output\n",
        "\n",
        "  def forward_propagation(self, x, params_HL1, params_HL2, params_output):\n",
        "    # Primera capa oculta\n",
        "    z_HL1 = np.matmul(x, params_HL1) + b_HL1\n",
        "    HL1 = relu(z_HL1)\n",
        "\n",
        "    # Segunda capa oculta\n",
        "    z_HL2 = np.matmul(HL1, params_HL2) + b_HL2\n",
        "    HL2 = relu(z_HL2)\n",
        "\n",
        "    # Capa de salida\n",
        "    z_y_aprox = np.matmul(HL2, params_output) + b_output\n",
        "    y_aprox = relu(z_y_aprox)\n",
        "\n",
        "    return HL1, HL2, y_aprox\n",
        "\n",
        "  def back_propagation(self, HL1, HL2, y_aprox, params_HL2, params_output, y, n_obs):\n",
        "    # Capa de salida\n",
        "    d_z_y_aprox = y_aprox - y\n",
        "    d_params_output = np.matmul(HL2.T, d_z_y_aprox) / n_obs\n",
        "    \n",
        "    # Segunda capa oculta\n",
        "    d_z_HL2 = np.matmul(d_z_y_aprox, params_output.T) * dx_relu(HL2)\n",
        "    d_params_HL2 = np.matmul(HL1.T, d_z_HL2) / n_obs\n",
        "    \n",
        "    # Primera capa oculta\n",
        "    d_z_HL1 = np.matmul(d_z_HL2, params_HL2.T) * dx_relu(HL1)\n",
        "    d_params_HL1 = np.matmul(x.T, d_z_HL1) / n_obs\n",
        "\n",
        "    return d_params_output, d_params_HL2, d_params_HL1\n",
        "\n",
        "  def train_func(self, x, y, params_HL1, params_HL2, params_output, epochs, lr):\n",
        "    n_obs = x.shape[0]\n",
        "    cost_list = []\n",
        "\n",
        "    for i in range(epochs):\n",
        "      HL1, HL2, y_aprox = self.forward_propagation(x, params_HL1, params_HL2, params_output)\n",
        "      d_params_output, d_params_HL2, d_params_HL1 = self.back_propagation(HL1, HL2, y_aprox, params_HL2, params_output, y, n_obs)\n",
        "\n",
        "      #cost = -(1/n_obs) * np.sum(y * np.log(y_aprox) + (1-y) * np.log(1-y_aprox))\n",
        "      cost = np.mean(np.power(y_aprox - y, 2)) / 2\n",
        "      cost_list.append(cost)\n",
        "\n",
        "      params_HL1 -= lr * d_params_HL1\n",
        "      params_HL2 -= lr * d_params_HL2\n",
        "      params_output -= lr * d_params_output\n",
        "\n",
        "    # Gráfica de la función de costo\n",
        "    plt.plot(cost_list)\n",
        "    plt.title(\"GRÁFICA DE FUNCIÓN DE COSTO\",\n",
        "              fontdict={\"fontsize\":14, \"color\":\"black\", \"fontweight\":\"bold\"})\n",
        "    plt.xlabel(\"EPOCHS\")\n",
        "    plt.ylabel(\"COST\")\n",
        "    plt.show()\n",
        "\n",
        "    return params_HL1, params_HL2, params_output\n",
        "\n",
        "  def graph_HL2(self, HL_data):\n",
        "    # Gráfica de capa intermedia, segunda capa oculta\n",
        "    colors = np.where(np.sum(HL_data, axis=1) > 0.5, 'g', 'r')\n",
        "    true = mpatches.Patch(color='g', label='1, True')\n",
        "    false = mpatches.Patch(color='r', label='0, False')\n",
        "\n",
        "    plt.scatter(HL_data[:,0], HL_data[:,1], color=colors)\n",
        "    plt.title(\"GRÁFICA DE REPRESENTACIÓN INTERMEDIA\\nSEGUNDA CAPA OCULTA\",\n",
        "              fontdict={\"fontsize\":14, \"color\":\"black\", \"fontweight\":\"bold\"})\n",
        "    plt.legend(handles=[true, false])\n",
        "    plt.show()\n",
        "\n",
        "  def predicciones(self, x, params_HL1_final, params_HL2_final, params_output_final):\n",
        "    HL1, HL2, y_aprox = self.forward_propagation(x, params_HL1_final, params_HL2_final, params_output_final)\n",
        "    out_table = pd.DataFrame(columns=['Input', 'XOR'])\n",
        "\n",
        "    for i in range(len(y_aprox)):\n",
        "      if y_aprox[i]>=0.5:\n",
        "        out_table = out_table.append({'Input':x[i], 'XOR':1}, ignore_index = True)\n",
        "      else:\n",
        "        out_table = out_table.append({'Input':x[i], 'XOR':0}, ignore_index = True)\n",
        "\n",
        "    return HL2, out_table"
      ],
      "execution_count": 3,
      "outputs": []
    },
    {
      "cell_type": "code",
      "metadata": {
        "id": "9q1IzzLrzOaR"
      },
      "source": [
        ""
      ],
      "execution_count": 3,
      "outputs": []
    },
    {
      "cell_type": "markdown",
      "metadata": {
        "id": "YkWiKT5OyZPv"
      },
      "source": [
        "### DATOS INICIALES"
      ]
    },
    {
      "cell_type": "code",
      "metadata": {
        "id": "JH8mD5PkpkCM"
      },
      "source": [
        "# 4 observaciones, 2 variables\n",
        "x = np.array([[1, 1],\n",
        "              [1, 0],\n",
        "              [0, 1],\n",
        "              [0, 0]])\n",
        "\n",
        "y = np.array([[0],\n",
        "              [1],\n",
        "              [1],\n",
        "              [0]])"
      ],
      "execution_count": 4,
      "outputs": []
    },
    {
      "cell_type": "code",
      "metadata": {
        "id": "9IwngI_fyd6o"
      },
      "source": [
        "# Parámetros de entrenamiento\n",
        "epochs = 10000\n",
        "lr = 0.01\n",
        "\n",
        "# Número de neuronas en cada capa\n",
        "neurons_HL1 = 5\n",
        "neurons_HL2 = 2\n",
        "neurons_output = 1\n",
        "\n",
        "# Crear la red neuronal de la clase creada arriba\n",
        "red = RedNeuronal()"
      ],
      "execution_count": 5,
      "outputs": []
    },
    {
      "cell_type": "code",
      "metadata": {
        "id": "gqEUXIbnJsd1"
      },
      "source": [
        ""
      ],
      "execution_count": 5,
      "outputs": []
    },
    {
      "cell_type": "markdown",
      "metadata": {
        "id": "b-GUaQlWz4jg"
      },
      "source": [
        "### EXPERIMENTO 1"
      ]
    },
    {
      "cell_type": "markdown",
      "metadata": {
        "id": "-cpph982yeSW"
      },
      "source": [
        "#### INICIALIZAR PARÁMETROS"
      ]
    },
    {
      "cell_type": "code",
      "metadata": {
        "id": "bqSJqFPOeNMu"
      },
      "source": [
        "params_HL1, params_HL2, params_output, b_HL1, b_HL2, b_output = red.init_params(x, neurons_HL1, neurons_HL2, neurons_output)"
      ],
      "execution_count": 6,
      "outputs": []
    },
    {
      "cell_type": "markdown",
      "metadata": {
        "id": "2Hh39VPtzzH9"
      },
      "source": [
        "#### ENTRENAMIENTO"
      ]
    },
    {
      "cell_type": "code",
      "metadata": {
        "colab": {
          "base_uri": "https://localhost:8080/",
          "height": 296
        },
        "id": "Mej5KX4QC1TK",
        "outputId": "b81ea27b-4f83-4020-800d-48544bac0f7c"
      },
      "source": [
        "params_HL1_final, params_HL2_final, params_output_final = red.train_func(x, y, params_HL1, params_HL2, params_output, epochs, lr)"
      ],
      "execution_count": 7,
      "outputs": [
        {
          "output_type": "display_data",
          "data": {
            "image/png": "[encoded data removed]",
            "text/plain": [
              "<Figure size 432x288 with 1 Axes>"
            ]
          },
          "metadata": {
            "needs_background": "light"
          }
        }
      ]
    },
    {
      "cell_type": "markdown",
      "metadata": {
        "id": "gtGJDXKT0kmk"
      },
      "source": [
        "#### TEST - PREDICCIONES"
      ]
    },
    {
      "cell_type": "code",
      "metadata": {
        "colab": {
          "base_uri": "https://localhost:8080/",
          "height": 173
        },
        "id": "xtjAElzleo-e",
        "outputId": "53de63d4-4cc1-406f-f33a-468c54f2ecc3"
      },
      "source": [
        "HL2, output_table = red.predicciones(x, params_HL1_final, params_HL2_final, params_output_final)\n",
        "output_table"
      ],
      "execution_count": 8,
      "outputs": [
        {
          "output_type": "execute_result",
          "data": {
            "text/html": [
              "<div>\n",
              "<style scoped>\n",
              "    .dataframe tbody tr th:only-of-type {\n",
              "        vertical-align: middle;\n",
              "    }\n",
              "\n",
              "    .dataframe tbody tr th {\n",
              "        vertical-align: top;\n",
              "    }\n",
              "\n",
              "    .dataframe thead th {\n",
              "        text-align: right;\n",
              "    }\n",
              "</style>\n",
              "<table border=\"1\" class=\"dataframe\">\n",
              "  <thead>\n",
              "    <tr style=\"text-align: right;\">\n",
              "      <th></th>\n",
              "      <th>Input</th>\n",
              "      <th>XOR</th>\n",
              "    </tr>\n",
              "  </thead>\n",
              "  <tbody>\n",
              "    <tr>\n",
              "      <th>0</th>\n",
              "      <td>[1, 1]</td>\n",
              "      <td>0</td>\n",
              "    </tr>\n",
              "    <tr>\n",
              "      <th>1</th>\n",
              "      <td>[1, 0]</td>\n",
              "      <td>0</td>\n",
              "    </tr>\n",
              "    <tr>\n",
              "      <th>2</th>\n",
              "      <td>[0, 1]</td>\n",
              "      <td>0</td>\n",
              "    </tr>\n",
              "    <tr>\n",
              "      <th>3</th>\n",
              "      <td>[0, 0]</td>\n",
              "      <td>0</td>\n",
              "    </tr>\n",
              "  </tbody>\n",
              "</table>\n",
              "</div>"
            ],
            "text/plain": [
              "    Input XOR\n",
              "0  [1, 1]   0\n",
              "1  [1, 0]   0\n",
              "2  [0, 1]   0\n",
              "3  [0, 0]   0"
            ]
          },
          "metadata": {},
          "execution_count": 8
        }
      ]
    },
    {
      "cell_type": "code",
      "metadata": {
        "colab": {
          "base_uri": "https://localhost:8080/",
          "height": 299
        },
        "id": "yYuNGc9cApaH",
        "outputId": "8a6b24f4-e25c-4624-9c45-0e23d324d6df"
      },
      "source": [
        "# Gráfica de capa intermedia, segunda capa oculta\n",
        "red.graph_HL2(HL2)"
      ],
      "execution_count": 9,
      "outputs": [
        {
          "output_type": "display_data",
          "data": {
            "image/png": "[encoded data removed]",
            "text/plain": [
              "<Figure size 432x288 with 1 Axes>"
            ]
          },
          "metadata": {
            "needs_background": "light"
          }
        }
      ]
    },
    {
      "cell_type": "code",
      "metadata": {
        "id": "CurYQ3FesFWj"
      },
      "source": [
        ""
      ],
      "execution_count": 9,
      "outputs": []
    },
    {
      "cell_type": "markdown",
      "metadata": {
        "id": "rhz62YjeKbIN"
      },
      "source": [
        "### EXPERIMENTO 2"
      ]
    },
    {
      "cell_type": "markdown",
      "metadata": {
        "id": "DQpcasQPKbIW"
      },
      "source": [
        "#### INICIALIZAR PARÁMETROS"
      ]
    },
    {
      "cell_type": "code",
      "metadata": {
        "id": "tBYeeLcTKbIW"
      },
      "source": [
        "params_HL1, params_HL2, params_output, b_HL1, b_HL2, b_output = red.init_params(x, neurons_HL1, neurons_HL2, neurons_output)"
      ],
      "execution_count": 10,
      "outputs": []
    },
    {
      "cell_type": "markdown",
      "metadata": {
        "id": "B1K8vHznKbIW"
      },
      "source": [
        "#### ENTRENAMIENTO"
      ]
    },
    {
      "cell_type": "code",
      "metadata": {
        "colab": {
          "base_uri": "https://localhost:8080/",
          "height": 296
        },
        "id": "iqGKNr5AKbIW",
        "outputId": "d99ce9ab-0d48-49e0-fa72-d1619602f0d8"
      },
      "source": [
        "params_HL1_final, params_HL2_final, params_output_final = red.train_func(x, y, params_HL1, params_HL2, params_output, epochs, lr)"
      ],
      "execution_count": 11,
      "outputs": [
        {
          "output_type": "display_data",
          "data": {
            "image/png": "[encoded data removed]",
            "text/plain": [
              "<Figure size 432x288 with 1 Axes>"
            ]
          },
          "metadata": {
            "needs_background": "light"
          }
        }
      ]
    },
    {
      "cell_type": "markdown",
      "metadata": {
        "id": "gvI5NEjEKbIX"
      },
      "source": [
        "#### TEST - PREDICCIONES"
      ]
    },
    {
      "cell_type": "code",
      "metadata": {
        "colab": {
          "base_uri": "https://localhost:8080/",
          "height": 173
        },
        "id": "7g51gZXtKbIX",
        "outputId": "192c33fc-1ece-413a-c57f-7bfa61331af9"
      },
      "source": [
        "HL2, output_table = red.predicciones(x, params_HL1_final, params_HL2_final, params_output_final)\n",
        "output_table"
      ],
      "execution_count": 12,
      "outputs": [
        {
          "output_type": "execute_result",
          "data": {
            "text/html": [
              "<div>\n",
              "<style scoped>\n",
              "    .dataframe tbody tr th:only-of-type {\n",
              "        vertical-align: middle;\n",
              "    }\n",
              "\n",
              "    .dataframe tbody tr th {\n",
              "        vertical-align: top;\n",
              "    }\n",
              "\n",
              "    .dataframe thead th {\n",
              "        text-align: right;\n",
              "    }\n",
              "</style>\n",
              "<table border=\"1\" class=\"dataframe\">\n",
              "  <thead>\n",
              "    <tr style=\"text-align: right;\">\n",
              "      <th></th>\n",
              "      <th>Input</th>\n",
              "      <th>XOR</th>\n",
              "    </tr>\n",
              "  </thead>\n",
              "  <tbody>\n",
              "    <tr>\n",
              "      <th>0</th>\n",
              "      <td>[1, 1]</td>\n",
              "      <td>0</td>\n",
              "    </tr>\n",
              "    <tr>\n",
              "      <th>1</th>\n",
              "      <td>[1, 0]</td>\n",
              "      <td>1</td>\n",
              "    </tr>\n",
              "    <tr>\n",
              "      <th>2</th>\n",
              "      <td>[0, 1]</td>\n",
              "      <td>1</td>\n",
              "    </tr>\n",
              "    <tr>\n",
              "      <th>3</th>\n",
              "      <td>[0, 0]</td>\n",
              "      <td>0</td>\n",
              "    </tr>\n",
              "  </tbody>\n",
              "</table>\n",
              "</div>"
            ],
            "text/plain": [
              "    Input XOR\n",
              "0  [1, 1]   0\n",
              "1  [1, 0]   1\n",
              "2  [0, 1]   1\n",
              "3  [0, 0]   0"
            ]
          },
          "metadata": {},
          "execution_count": 12
        }
      ]
    },
    {
      "cell_type": "code",
      "metadata": {
        "colab": {
          "base_uri": "https://localhost:8080/",
          "height": 299
        },
        "id": "iaodTVKcKbIX",
        "outputId": "522cf3d7-b473-42ff-d67b-d2cd60e51f22"
      },
      "source": [
        "# Gráfica de capa intermedia, segunda capa oculta\n",
        "red.graph_HL2(HL2)"
      ],
      "execution_count": 13,
      "outputs": [
        {
          "output_type": "display_data",
          "data": {
            "image/png": "[encoded data removed]",
            "text/plain": [
              "<Figure size 432x288 with 1 Axes>"
            ]
          },
          "metadata": {
            "needs_background": "light"
          }
        }
      ]
    },
    {
      "cell_type": "code",
      "metadata": {
        "id": "cQseyqXpKbIX"
      },
      "source": [
        ""
      ],
      "execution_count": 13,
      "outputs": []
    },
    {
      "cell_type": "markdown",
      "metadata": {
        "id": "82HUqE68KbZ5"
      },
      "source": [
        "### EXPERIMENTO 3"
      ]
    },
    {
      "cell_type": "markdown",
      "metadata": {
        "id": "ymL8e-buKbZ6"
      },
      "source": [
        "#### INICIALIZAR PARÁMETROS"
      ]
    },
    {
      "cell_type": "code",
      "metadata": {
        "id": "Q6tkEfwEKbZ6"
      },
      "source": [
        "params_HL1, params_HL2, params_output, b_HL1, b_HL2, b_output = red.init_params(x, neurons_HL1, neurons_HL2, neurons_output)"
      ],
      "execution_count": 14,
      "outputs": []
    },
    {
      "cell_type": "markdown",
      "metadata": {
        "id": "WU3E3bbEKbZ6"
      },
      "source": [
        "#### ENTRENAMIENTO"
      ]
    },
    {
      "cell_type": "code",
      "metadata": {
        "colab": {
          "base_uri": "https://localhost:8080/",
          "height": 296
        },
        "id": "Gr-SAi6lKbZ6",
        "outputId": "7953ce2b-4ce1-4d09-d67a-e199cce036f5"
      },
      "source": [
        "params_HL1_final, params_HL2_final, params_output_final = red.train_func(x, y, params_HL1, params_HL2, params_output, epochs, lr)"
      ],
      "execution_count": 15,
      "outputs": [
        {
          "output_type": "display_data",
          "data": {
            "image/png": "[encoded data removed]",
            "text/plain": [
              "<Figure size 432x288 with 1 Axes>"
            ]
          },
          "metadata": {
            "needs_background": "light"
          }
        }
      ]
    },
    {
      "cell_type": "markdown",
      "metadata": {
        "id": "BBnzQ6S8KbZ6"
      },
      "source": [
        "#### TEST - PREDICCIONES"
      ]
    },
    {
      "cell_type": "code",
      "metadata": {
        "colab": {
          "base_uri": "https://localhost:8080/",
          "height": 173
        },
        "id": "JtOb6qIqKbZ7",
        "outputId": "b6ffadde-3c5c-4333-d3c9-a6a19b1be0ba"
      },
      "source": [
        "HL2, output_table = red.predicciones(x, params_HL1_final, params_HL2_final, params_output_final)\n",
        "output_table"
      ],
      "execution_count": 16,
      "outputs": [
        {
          "output_type": "execute_result",
          "data": {
            "text/html": [
              "<div>\n",
              "<style scoped>\n",
              "    .dataframe tbody tr th:only-of-type {\n",
              "        vertical-align: middle;\n",
              "    }\n",
              "\n",
              "    .dataframe tbody tr th {\n",
              "        vertical-align: top;\n",
              "    }\n",
              "\n",
              "    .dataframe thead th {\n",
              "        text-align: right;\n",
              "    }\n",
              "</style>\n",
              "<table border=\"1\" class=\"dataframe\">\n",
              "  <thead>\n",
              "    <tr style=\"text-align: right;\">\n",
              "      <th></th>\n",
              "      <th>Input</th>\n",
              "      <th>XOR</th>\n",
              "    </tr>\n",
              "  </thead>\n",
              "  <tbody>\n",
              "    <tr>\n",
              "      <th>0</th>\n",
              "      <td>[1, 1]</td>\n",
              "      <td>0</td>\n",
              "    </tr>\n",
              "    <tr>\n",
              "      <th>1</th>\n",
              "      <td>[1, 0]</td>\n",
              "      <td>1</td>\n",
              "    </tr>\n",
              "    <tr>\n",
              "      <th>2</th>\n",
              "      <td>[0, 1]</td>\n",
              "      <td>1</td>\n",
              "    </tr>\n",
              "    <tr>\n",
              "      <th>3</th>\n",
              "      <td>[0, 0]</td>\n",
              "      <td>0</td>\n",
              "    </tr>\n",
              "  </tbody>\n",
              "</table>\n",
              "</div>"
            ],
            "text/plain": [
              "    Input XOR\n",
              "0  [1, 1]   0\n",
              "1  [1, 0]   1\n",
              "2  [0, 1]   1\n",
              "3  [0, 0]   0"
            ]
          },
          "metadata": {},
          "execution_count": 16
        }
      ]
    },
    {
      "cell_type": "code",
      "metadata": {
        "colab": {
          "base_uri": "https://localhost:8080/",
          "height": 299
        },
        "id": "81ompEycKbZ7",
        "outputId": "42c53523-d9bf-419d-b535-0ab0d4221c78"
      },
      "source": [
        "# Gráfica de capa intermedia, segunda capa oculta\n",
        "red.graph_HL2(HL2)"
      ],
      "execution_count": 17,
      "outputs": [
        {
          "output_type": "display_data",
          "data": {
            "image/png": "[encoded data removed]",
            "text/plain": [
              "<Figure size 432x288 with 1 Axes>"
            ]
          },
          "metadata": {
            "needs_background": "light"
          }
        }
      ]
    },
    {
      "cell_type": "code",
      "metadata": {
        "id": "Xm95_QDEKbZ7"
      },
      "source": [
        ""
      ],
      "execution_count": 17,
      "outputs": []
    },
    {
      "cell_type": "markdown",
      "metadata": {
        "id": "Q_lobJGxKbxt"
      },
      "source": [
        "### EXPERIMENTO 4"
      ]
    },
    {
      "cell_type": "markdown",
      "metadata": {
        "id": "mKbLgUX2Kbxt"
      },
      "source": [
        "#### INICIALIZAR PARÁMETROS"
      ]
    },
    {
      "cell_type": "code",
      "metadata": {
        "id": "vnBVUBRaKbxt"
      },
      "source": [
        "params_HL1, params_HL2, params_output, b_HL1, b_HL2, b_output = red.init_params(x, neurons_HL1, neurons_HL2, neurons_output)"
      ],
      "execution_count": 18,
      "outputs": []
    },
    {
      "cell_type": "markdown",
      "metadata": {
        "id": "o-toC1oaKbxu"
      },
      "source": [
        "#### ENTRENAMIENTO"
      ]
    },
    {
      "cell_type": "code",
      "metadata": {
        "colab": {
          "base_uri": "https://localhost:8080/",
          "height": 296
        },
        "id": "ZKbjUxNtKbxu",
        "outputId": "d10c77ce-b963-4e3e-d205-d591895c37b9"
      },
      "source": [
        "params_HL1_final, params_HL2_final, params_output_final = red.train_func(x, y, params_HL1, params_HL2, params_output, epochs, lr)"
      ],
      "execution_count": 19,
      "outputs": [
        {
          "output_type": "display_data",
          "data": {
            "image/png": "[encoded data removed]",
            "text/plain": [
              "<Figure size 432x288 with 1 Axes>"
            ]
          },
          "metadata": {
            "needs_background": "light"
          }
        }
      ]
    },
    {
      "cell_type": "markdown",
      "metadata": {
        "id": "5iyWWn8fKbxu"
      },
      "source": [
        "#### TEST - PREDICCIONES"
      ]
    },
    {
      "cell_type": "code",
      "metadata": {
        "colab": {
          "base_uri": "https://localhost:8080/",
          "height": 173
        },
        "id": "7N5sKGXaKbxu",
        "outputId": "6df0c730-7430-4846-a39d-c70c60988378"
      },
      "source": [
        "HL2, output_table = red.predicciones(x, params_HL1_final, params_HL2_final, params_output_final)\n",
        "output_table"
      ],
      "execution_count": 20,
      "outputs": [
        {
          "output_type": "execute_result",
          "data": {
            "text/html": [
              "<div>\n",
              "<style scoped>\n",
              "    .dataframe tbody tr th:only-of-type {\n",
              "        vertical-align: middle;\n",
              "    }\n",
              "\n",
              "    .dataframe tbody tr th {\n",
              "        vertical-align: top;\n",
              "    }\n",
              "\n",
              "    .dataframe thead th {\n",
              "        text-align: right;\n",
              "    }\n",
              "</style>\n",
              "<table border=\"1\" class=\"dataframe\">\n",
              "  <thead>\n",
              "    <tr style=\"text-align: right;\">\n",
              "      <th></th>\n",
              "      <th>Input</th>\n",
              "      <th>XOR</th>\n",
              "    </tr>\n",
              "  </thead>\n",
              "  <tbody>\n",
              "    <tr>\n",
              "      <th>0</th>\n",
              "      <td>[1, 1]</td>\n",
              "      <td>0</td>\n",
              "    </tr>\n",
              "    <tr>\n",
              "      <th>1</th>\n",
              "      <td>[1, 0]</td>\n",
              "      <td>1</td>\n",
              "    </tr>\n",
              "    <tr>\n",
              "      <th>2</th>\n",
              "      <td>[0, 1]</td>\n",
              "      <td>1</td>\n",
              "    </tr>\n",
              "    <tr>\n",
              "      <th>3</th>\n",
              "      <td>[0, 0]</td>\n",
              "      <td>0</td>\n",
              "    </tr>\n",
              "  </tbody>\n",
              "</table>\n",
              "</div>"
            ],
            "text/plain": [
              "    Input XOR\n",
              "0  [1, 1]   0\n",
              "1  [1, 0]   1\n",
              "2  [0, 1]   1\n",
              "3  [0, 0]   0"
            ]
          },
          "metadata": {},
          "execution_count": 20
        }
      ]
    },
    {
      "cell_type": "code",
      "metadata": {
        "colab": {
          "base_uri": "https://localhost:8080/",
          "height": 299
        },
        "id": "vW1xKlDzKbxu",
        "outputId": "fb73003a-0f08-48cf-f830-6c18e4f70819"
      },
      "source": [
        "# Gráfica de capa intermedia, segunda capa oculta\n",
        "red.graph_HL2(HL2)"
      ],
      "execution_count": 21,
      "outputs": [
        {
          "output_type": "display_data",
          "data": {
            "image/png": "[encoded data removed]",
            "text/plain": [
              "<Figure size 432x288 with 1 Axes>"
            ]
          },
          "metadata": {
            "needs_background": "light"
          }
        }
      ]
    },
    {
      "cell_type": "code",
      "metadata": {
        "id": "yoU6OHRHKbxv"
      },
      "source": [
        ""
      ],
      "execution_count": 21,
      "outputs": []
    },
    {
      "cell_type": "markdown",
      "metadata": {
        "id": "Ogp79C5AKcAh"
      },
      "source": [
        "### EXPERIMENTO 5"
      ]
    },
    {
      "cell_type": "markdown",
      "metadata": {
        "id": "mbnZgm7vKcAh"
      },
      "source": [
        "#### INICIALIZAR PARÁMETROS"
      ]
    },
    {
      "cell_type": "code",
      "metadata": {
        "id": "_oTgbVwTKcAh"
      },
      "source": [
        "params_HL1, params_HL2, params_output, b_HL1, b_HL2, b_output = red.init_params(x, neurons_HL1, neurons_HL2, neurons_output)"
      ],
      "execution_count": 22,
      "outputs": []
    },
    {
      "cell_type": "markdown",
      "metadata": {
        "id": "74MqG4SNKcAh"
      },
      "source": [
        "#### ENTRENAMIENTO"
      ]
    },
    {
      "cell_type": "code",
      "metadata": {
        "colab": {
          "base_uri": "https://localhost:8080/",
          "height": 296
        },
        "id": "uKg51LYcKcAi",
        "outputId": "0c965572-8380-411b-b2f3-1a419163d370"
      },
      "source": [
        "params_HL1_final, params_HL2_final, params_output_final = red.train_func(x, y, params_HL1, params_HL2, params_output, epochs, lr)"
      ],
      "execution_count": 23,
      "outputs": [
        {
          "output_type": "display_data",
          "data": {
            "image/png": "[encoded data removed]",
            "text/plain": [
              "<Figure size 432x288 with 1 Axes>"
            ]
          },
          "metadata": {
            "needs_background": "light"
          }
        }
      ]
    },
    {
      "cell_type": "markdown",
      "metadata": {
        "id": "VrlatBw3KcAi"
      },
      "source": [
        "#### TEST - PREDICCIONES"
      ]
    },
    {
      "cell_type": "code",
      "metadata": {
        "colab": {
          "base_uri": "https://localhost:8080/",
          "height": 173
        },
        "id": "Vmml4-05KcAi",
        "outputId": "3eff5685-dd46-40e9-a646-8db763569020"
      },
      "source": [
        "HL2, output_table = red.predicciones(x, params_HL1_final, params_HL2_final, params_output_final)\n",
        "output_table"
      ],
      "execution_count": 24,
      "outputs": [
        {
          "output_type": "execute_result",
          "data": {
            "text/html": [
              "<div>\n",
              "<style scoped>\n",
              "    .dataframe tbody tr th:only-of-type {\n",
              "        vertical-align: middle;\n",
              "    }\n",
              "\n",
              "    .dataframe tbody tr th {\n",
              "        vertical-align: top;\n",
              "    }\n",
              "\n",
              "    .dataframe thead th {\n",
              "        text-align: right;\n",
              "    }\n",
              "</style>\n",
              "<table border=\"1\" class=\"dataframe\">\n",
              "  <thead>\n",
              "    <tr style=\"text-align: right;\">\n",
              "      <th></th>\n",
              "      <th>Input</th>\n",
              "      <th>XOR</th>\n",
              "    </tr>\n",
              "  </thead>\n",
              "  <tbody>\n",
              "    <tr>\n",
              "      <th>0</th>\n",
              "      <td>[1, 1]</td>\n",
              "      <td>0</td>\n",
              "    </tr>\n",
              "    <tr>\n",
              "      <th>1</th>\n",
              "      <td>[1, 0]</td>\n",
              "      <td>1</td>\n",
              "    </tr>\n",
              "    <tr>\n",
              "      <th>2</th>\n",
              "      <td>[0, 1]</td>\n",
              "      <td>1</td>\n",
              "    </tr>\n",
              "    <tr>\n",
              "      <th>3</th>\n",
              "      <td>[0, 0]</td>\n",
              "      <td>0</td>\n",
              "    </tr>\n",
              "  </tbody>\n",
              "</table>\n",
              "</div>"
            ],
            "text/plain": [
              "    Input XOR\n",
              "0  [1, 1]   0\n",
              "1  [1, 0]   1\n",
              "2  [0, 1]   1\n",
              "3  [0, 0]   0"
            ]
          },
          "metadata": {},
          "execution_count": 24
        }
      ]
    },
    {
      "cell_type": "code",
      "metadata": {
        "colab": {
          "base_uri": "https://localhost:8080/",
          "height": 299
        },
        "id": "4KF9AFIuKcAj",
        "outputId": "46d0735c-408f-4d79-e15f-d0acd2ae59dc"
      },
      "source": [
        "# Gráfica de capa intermedia, segunda capa oculta\n",
        "red.graph_HL2(HL2)"
      ],
      "execution_count": 25,
      "outputs": [
        {
          "output_type": "display_data",
          "data": {
            "image/png": "[encoded data removed]",
            "text/plain": [
              "<Figure size 432x288 with 1 Axes>"
            ]
          },
          "metadata": {
            "needs_background": "light"
          }
        }
      ]
    },
    {
      "cell_type": "code",
      "metadata": {
        "id": "caDMGzOjKcAj"
      },
      "source": [
        ""
      ],
      "execution_count": 25,
      "outputs": []
    },
    {
      "cell_type": "markdown",
      "metadata": {
        "id": "tGHd8ZHX-HXe"
      },
      "source": [
        "### CONCLUSIONES"
      ]
    },
    {
      "cell_type": "markdown",
      "metadata": {
        "id": "QmbDKpWjFQzj"
      },
      "source": [
        "1. Se puede observar en los distintos experimentos que el valor inicial que tomen los parámetros influyen directamente en el resultado de las predicciones, en el primer experimento se observa que no converge y en los siguientes 4 experimentos si.\n",
        "\n",
        "2. El comportamiento del decaimiento de la función de costo también se ve afectada por el valor inicial de los parámetros.\n",
        "\n",
        "3. Al graficar la segunda capa oculta se puede observar que en cualquie experimento es posible separar ambas clases, concluyendo que en la segunda capa intermedia son linealmente separables."
      ]
    },
    {
      "cell_type": "code",
      "metadata": {
        "id": "GxR7uJ863CXE"
      },
      "source": [
        ""
      ],
      "execution_count": 25,
      "outputs": []
    }
  ]
}